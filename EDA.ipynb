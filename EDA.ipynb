{
 "cells": [
  {
   "cell_type": "code",
   "execution_count": 1,
   "metadata": {},
   "outputs": [
    {
     "name": "stdout",
     "output_type": "stream",
     "text": [
      "Populating the interactive namespace from numpy and matplotlib\n"
     ]
    }
   ],
   "source": [
    "import numpy as np\n",
    "import pandas as pd\n",
    "import pysqlite3\n",
    "import matplotlib.pyplot as plt\n",
    "import seaborn as sns\n",
    "\n",
    "%pylab inline\n",
    "\n",
    "#sqlite connection\n",
    "conn = pysqlite3.connect('kayzen.db')"
   ]
  },
  {
   "cell_type": "markdown",
   "metadata": {},
   "source": [
    "### Data Manipulation"
   ]
  },
  {
   "cell_type": "code",
   "execution_count": 61,
   "metadata": {},
   "outputs": [
    {
     "name": "stdout",
     "output_type": "stream",
     "text": [
      "The sql extension is already loaded. To reload it, use:\n",
      "  %reload_ext sql\n"
     ]
    }
   ],
   "source": [
    "stark_imp = pd.read_csv(\"stark_imp (1).csv\", low_memory=False)\n",
    "stark_click = pd.read_csv(\"stark_click (1).csv\")\n",
    "stark_install = pd.read_csv(\"stark_install (1).csv\")\n",
    "country_mapping = pd.read_excel(\"Country Mapping (2).xlsx\", encoding='latin')\n",
    "\n",
    "#Dropping Duplicates: Unique Id\n",
    "stark_imp.drop_duplicates(subset=['Unique Id'], inplace=True)\n",
    "stark_click.drop_duplicates(subset=['Unique Id'], inplace=True)\n",
    "stark_install.drop_duplicates(subset=['Unique Id'], inplace=True)\n",
    "\n",
    "\n",
    "#Adding Datetime column from 'Epoch Timestamp'\n",
    "stark_click['Datetime'] = pd.to_datetime(stark_click['Epoch Timestamp'], unit='s')\n",
    "stark_imp['Datetime'] = pd.to_datetime(stark_imp['Epoch Timestamp'], unit='s')\n",
    "stark_install['Datetime'] = pd.to_datetime(stark_install['Epoch Timestamp'], unit='s')\n",
    "\n",
    "# df > sql\n",
    "stark_imp.to_sql('imp', conn)\n",
    "stark_click.to_sql('click', conn)\n",
    "stark_install.to_sql('install', conn)\n",
    "country_mapping.to_sql('country',conn)\n",
    "\n",
    "%load_ext sql\n",
    "%sql sqlite:///kayzen.db"
   ]
  },
  {
   "cell_type": "markdown",
   "metadata": {},
   "source": [
    "### Info"
   ]
  },
  {
   "cell_type": "code",
   "execution_count": 41,
   "metadata": {},
   "outputs": [
    {
     "data": {
      "text/plain": [
       "152294"
      ]
     },
     "execution_count": 41,
     "metadata": {},
     "output_type": "execute_result"
    }
   ],
   "source": [
    "stark_install['Unique Id'].nunique()"
   ]
  },
  {
   "cell_type": "code",
   "execution_count": 4,
   "metadata": {
    "scrolled": true
   },
   "outputs": [
    {
     "name": "stdout",
     "output_type": "stream",
     "text": [
      "<class 'pandas.core.frame.DataFrame'>\n",
      "Int64Index: 276055 entries, 0 to 279920\n",
      "Data columns (total 24 columns):\n",
      " #   Column               Non-Null Count   Dtype         \n",
      "---  ------               --------------   -----         \n",
      " 0   REQ_CITY_ID          276055 non-null  int64         \n",
      " 1   REQ_COUNTRY_ID       276055 non-null  int64         \n",
      " 2   Raw User Id          276055 non-null  object        \n",
      " 3   App Id               272745 non-null  object        \n",
      " 4   EXCHANGE_ID          276055 non-null  int64         \n",
      " 5   DEVICE_MANUFACTURER  276055 non-null  int64         \n",
      " 6   DEVICE_MODEL         276055 non-null  int64         \n",
      " 7   DEVICE_OS            276055 non-null  int64         \n",
      " 8   OS_Version           276055 non-null  int64         \n",
      " 9   USER_CARRIER         276055 non-null  int64         \n",
      " 10  CAMPAIGN_ID          276055 non-null  int64         \n",
      " 11  CREATIVE_ID_1        276055 non-null  int64         \n",
      " 12  CREATIVE_ID_2        276055 non-null  int64         \n",
      " 13  Unique Id            276055 non-null  object        \n",
      " 14  Epoch Timestamp      276055 non-null  int64         \n",
      " 15  CREATIVE_TYPE        276055 non-null  int64         \n",
      " 16  IAB_CATEGORY_ID1     105784 non-null  float64       \n",
      " 17  IAB_CATEGORY_ID2     97735 non-null   float64       \n",
      " 18  IAB_CATEGORY_ID3     25250 non-null   float64       \n",
      " 19  IS_WIFI              276055 non-null  int64         \n",
      " 20  CAMPAIGN_TYPE        276055 non-null  int64         \n",
      " 21  CONNECTION_TYPE      276055 non-null  int64         \n",
      " 22  IMP_ORIENTATION      276055 non-null  object        \n",
      " 23  Datetime             276055 non-null  datetime64[ns]\n",
      "dtypes: datetime64[ns](1), float64(3), int64(16), object(4)\n",
      "memory usage: 142.7 MB\n",
      "None\n",
      "<class 'pandas.core.frame.DataFrame'>\n",
      "Int64Index: 6541 entries, 0 to 11146\n",
      "Data columns (total 24 columns):\n",
      " #   Column               Non-Null Count  Dtype         \n",
      "---  ------               --------------  -----         \n",
      " 0   REQ_CITY_ID          6541 non-null   int64         \n",
      " 1   REQ_COUNTRY_ID       6541 non-null   int64         \n",
      " 2   Raw User Id          6541 non-null   object        \n",
      " 3   App Id               6481 non-null   object        \n",
      " 4   EXCHANGE_ID          6541 non-null   int64         \n",
      " 5   DEVICE_MANUFACTURER  6541 non-null   int64         \n",
      " 6   DEVICE_MODEL         6541 non-null   int64         \n",
      " 7   DEVICE_OS            6541 non-null   int64         \n",
      " 8   OS_Version           6541 non-null   int64         \n",
      " 9   USER_CARRIER         6541 non-null   int64         \n",
      " 10  CAMPAIGN_ID          6541 non-null   int64         \n",
      " 11  CREATIVE_ID_1        6541 non-null   int64         \n",
      " 12  CREATIVE_ID_2        6541 non-null   int64         \n",
      " 13  Unique Id            6541 non-null   object        \n",
      " 14  Epoch Timestamp      6541 non-null   int64         \n",
      " 15  CREATIVE_TYPE        6541 non-null   int64         \n",
      " 16  IAB_CATEGORY_ID1     4401 non-null   float64       \n",
      " 17  IAB_CATEGORY_ID2     4264 non-null   float64       \n",
      " 18  IAB_CATEGORY_ID3     1270 non-null   float64       \n",
      " 19  IS_WIFI              6541 non-null   int64         \n",
      " 20  CAMPAIGN_TYPE        6541 non-null   int64         \n",
      " 21  CONNECTION_TYPE      6541 non-null   int64         \n",
      " 22  IMP_ORIENTATION      6541 non-null   object        \n",
      " 23  Datetime             6541 non-null   datetime64[ns]\n",
      "dtypes: datetime64[ns](1), float64(3), int64(16), object(4)\n",
      "memory usage: 3.4 MB\n",
      "None\n",
      "<class 'pandas.core.frame.DataFrame'>\n",
      "Int64Index: 152295 entries, 0 to 630553\n",
      "Data columns (total 8 columns):\n",
      " #   Column              Non-Null Count   Dtype         \n",
      "---  ------              --------------   -----         \n",
      " 0   Unique Id           152294 non-null  object        \n",
      " 1   is_valid_unique_id  152295 non-null  int64         \n",
      " 2   can_claim           152295 non-null  int64         \n",
      " 3   country_code        152295 non-null  object        \n",
      " 4   Raw User Id         141446 non-null  object        \n",
      " 5   DEVICE_OS           152295 non-null  object        \n",
      " 6   Epoch Timestamp     152295 non-null  int64         \n",
      " 7   Datetime            152295 non-null  datetime64[ns]\n",
      "dtypes: datetime64[ns](1), int64(3), object(4)\n",
      "memory usage: 46.8 MB\n",
      "None\n"
     ]
    }
   ],
   "source": [
    "print(stark_imp.info(memory_usage='deep'))\n",
    "print(stark_click.info(memory_usage='deep'))\n",
    "print(stark_install.info(memory_usage='deep'))"
   ]
  },
  {
   "cell_type": "markdown",
   "metadata": {},
   "source": [
    "#### Assumptions:\n",
    "* **VTA** is enabled\n",
    "* Unmatched _'REQ_COUNTRY_ID'_ from _'stark_imp'_ and _'country_code'_ from _'stark_install'_ is due to **VPN**"
   ]
  },
  {
   "cell_type": "markdown",
   "metadata": {},
   "source": [
    "### Attributed installs without click - VTA"
   ]
  },
  {
   "cell_type": "code",
   "execution_count": 5,
   "metadata": {},
   "outputs": [
    {
     "name": "stdout",
     "output_type": "stream",
     "text": [
      " * sqlite:///kayzen.db\n",
      "Done.\n"
     ]
    },
    {
     "data": {
      "text/html": [
       "<table>\n",
       "    <tr>\n",
       "        <th>Raw User Id</th>\n",
       "        <th>impressions</th>\n",
       "        <th>clicks</th>\n",
       "        <th>installs</th>\n",
       "    </tr>\n",
       "    <tr>\n",
       "        <td>raw_id:01174FAD-4879-4061-9DA2-9556057B99AC</td>\n",
       "        <td>6</td>\n",
       "        <td>0</td>\n",
       "        <td>1</td>\n",
       "    </tr>\n",
       "    <tr>\n",
       "        <td>raw_id:07201F47-FF3A-4E06-93C7-6C2E555DDDFA</td>\n",
       "        <td>1</td>\n",
       "        <td>0</td>\n",
       "        <td>1</td>\n",
       "    </tr>\n",
       "    <tr>\n",
       "        <td>raw_id:0768588F-6761-4356-BACE-6F8BB360E68C</td>\n",
       "        <td>1</td>\n",
       "        <td>0</td>\n",
       "        <td>1</td>\n",
       "    </tr>\n",
       "    <tr>\n",
       "        <td>raw_id:07F3099D-93D2-438B-ACC1-1925EE246D6E</td>\n",
       "        <td>1</td>\n",
       "        <td>0</td>\n",
       "        <td>1</td>\n",
       "    </tr>\n",
       "    <tr>\n",
       "        <td>raw_id:083AAB80-C71F-4777-9B7E-5F4F68BBF282</td>\n",
       "        <td>1</td>\n",
       "        <td>0</td>\n",
       "        <td>1</td>\n",
       "    </tr>\n",
       "</table>"
      ],
      "text/plain": [
       "[('raw_id:01174FAD-4879-4061-9DA2-9556057B99AC', 6, 0, 1),\n",
       " ('raw_id:07201F47-FF3A-4E06-93C7-6C2E555DDDFA', 1, 0, 1),\n",
       " ('raw_id:0768588F-6761-4356-BACE-6F8BB360E68C', 1, 0, 1),\n",
       " ('raw_id:07F3099D-93D2-438B-ACC1-1925EE246D6E', 1, 0, 1),\n",
       " ('raw_id:083AAB80-C71F-4777-9B7E-5F4F68BBF282', 1, 0, 1)]"
      ]
     },
     "execution_count": 5,
     "metadata": {},
     "output_type": "execute_result"
    }
   ],
   "source": [
    "%%sql\n",
    "\n",
    "WITH attr AS (\n",
    "    SELECT\n",
    "    [Unique Id],\n",
    "    [Raw User Id],\n",
    "    [Epoch Timestamp]\n",
    "    FROM install\n",
    "    WHERE can_claim = 1\n",
    "),\n",
    "    agg AS (\n",
    "    SELECT\n",
    "    imp.[Raw User Id],\n",
    "    COUNT(imp.[Unique Id]) AS impressions,\n",
    "    COUNT(c.[Unique Id]) AS clicks,\n",
    "    COUNT(i.[Unique Id]) AS installs\n",
    "    FROM imp \n",
    "    LEFT JOIN click c ON c.[Unique Id] = imp.[Unique Id]\n",
    "    LEFT JOIN attr i ON i.[Unique Id] = imp.[Unique Id]\n",
    "    GROUP BY 1\n",
    ")\n",
    "SELECT\n",
    "[Raw User Id],\n",
    "impressions,\n",
    "clicks,\n",
    "installs\n",
    "FROM agg\n",
    "WHERE clicks = 0\n",
    "AND installs = 1\n",
    "LIMIT 5; "
   ]
  },
  {
   "cell_type": "markdown",
   "metadata": {},
   "source": [
    "### Unmatched countries"
   ]
  },
  {
   "cell_type": "code",
   "execution_count": 6,
   "metadata": {},
   "outputs": [
    {
     "name": "stdout",
     "output_type": "stream",
     "text": [
      " * sqlite:///kayzen.db\n",
      "Done.\n"
     ]
    },
    {
     "data": {
      "text/html": [
       "<table>\n",
       "    <tr>\n",
       "        <th>Raw User Id</th>\n",
       "        <th>COUNTRY_NAME</th>\n",
       "        <th>country_code</th>\n",
       "    </tr>\n",
       "    <tr>\n",
       "        <td>raw_id:293D1D9E-E139-41CF-972D-3BADC011B1DA</td>\n",
       "        <td>United States</td>\n",
       "        <td>DE</td>\n",
       "    </tr>\n",
       "    <tr>\n",
       "        <td>raw_id:5AB4BBE2-8ABB-430B-9856-8037A628D88C</td>\n",
       "        <td>United States</td>\n",
       "        <td>CA</td>\n",
       "    </tr>\n",
       "    <tr>\n",
       "        <td>raw_id:7C97286F-55F1-4714-9D53-AA1D23957DBA</td>\n",
       "        <td>United States</td>\n",
       "        <td>None</td>\n",
       "    </tr>\n",
       "    <tr>\n",
       "        <td>raw_id:7F24BD95-A836-4242-A94F-C70AD71A52AC</td>\n",
       "        <td>United States</td>\n",
       "        <td>PK</td>\n",
       "    </tr>\n",
       "    <tr>\n",
       "        <td>raw_id:8046E433-5E9E-4EC9-A2E3-6E8F6FCBC467</td>\n",
       "        <td>United States</td>\n",
       "        <td>KZ</td>\n",
       "    </tr>\n",
       "    <tr>\n",
       "        <td>raw_id:93BF02B2-2A2E-47E9-AA7F-3F6123949E4C</td>\n",
       "        <td>United States</td>\n",
       "        <td>SA</td>\n",
       "    </tr>\n",
       "    <tr>\n",
       "        <td>raw_id:A286A5C5-C851-481D-9DF7-543FADE51484</td>\n",
       "        <td>United States</td>\n",
       "        <td>IR</td>\n",
       "    </tr>\n",
       "    <tr>\n",
       "        <td>raw_id:D60C360C-2391-4CD7-AB39-4925DB8832E5</td>\n",
       "        <td>United States</td>\n",
       "        <td>PR</td>\n",
       "    </tr>\n",
       "    <tr>\n",
       "        <td>raw_id:F772FB5D-888D-4855-8291-F8BB9556ED30</td>\n",
       "        <td>United States</td>\n",
       "        <td>DE</td>\n",
       "    </tr>\n",
       "    <tr>\n",
       "        <td>raw_id:FDBE2026-6FDA-4083-91E3-C71A27F52AE5</td>\n",
       "        <td>United States</td>\n",
       "        <td>KZ</td>\n",
       "    </tr>\n",
       "</table>"
      ],
      "text/plain": [
       "[('raw_id:293D1D9E-E139-41CF-972D-3BADC011B1DA', 'United States', 'DE'),\n",
       " ('raw_id:5AB4BBE2-8ABB-430B-9856-8037A628D88C', 'United States', 'CA'),\n",
       " ('raw_id:7C97286F-55F1-4714-9D53-AA1D23957DBA', 'United States', 'None'),\n",
       " ('raw_id:7F24BD95-A836-4242-A94F-C70AD71A52AC', 'United States', 'PK'),\n",
       " ('raw_id:8046E433-5E9E-4EC9-A2E3-6E8F6FCBC467', 'United States', 'KZ'),\n",
       " ('raw_id:93BF02B2-2A2E-47E9-AA7F-3F6123949E4C', 'United States', 'SA'),\n",
       " ('raw_id:A286A5C5-C851-481D-9DF7-543FADE51484', 'United States', 'IR'),\n",
       " ('raw_id:D60C360C-2391-4CD7-AB39-4925DB8832E5', 'United States', 'PR'),\n",
       " ('raw_id:F772FB5D-888D-4855-8291-F8BB9556ED30', 'United States', 'DE'),\n",
       " ('raw_id:FDBE2026-6FDA-4083-91E3-C71A27F52AE5', 'United States', 'KZ')]"
      ]
     },
     "execution_count": 6,
     "metadata": {},
     "output_type": "execute_result"
    }
   ],
   "source": [
    "%%sql\n",
    "\n",
    "WITH attr AS (\n",
    "    SELECT\n",
    "    [Unique Id],\n",
    "    [Raw User Id],\n",
    "    country_code,\n",
    "    [Epoch Timestamp]\n",
    "    FROM install\n",
    "    WHERE can_claim = 1\n",
    "    ),\n",
    "    countries AS (\n",
    "    SELECT\n",
    "    REQ_COUNTRY_ID,\n",
    "    COUNTRY_NAME\n",
    "    FROM country\n",
    "    )\n",
    "SELECT\n",
    "DISTINCT imp.[Raw User Id],\n",
    "cs.COUNTRY_NAME,\n",
    "i.country_code\n",
    "FROM imp \n",
    "LEFT JOIN countries cs ON cs.REQ_COUNTRY_ID = imp.REQ_COUNTRY_ID\n",
    "LEFT JOIN click c ON c.[Unique Id] = imp.[Unique Id]\n",
    "LEFT JOIN attr i ON i.[Unique Id] = imp.[Unique Id]\n",
    "WHERE i.country_code <> 'US'\n",
    "AND cs.COUNTRY_NAME = 'United States'\n",
    "LIMIT 10; "
   ]
  },
  {
   "cell_type": "markdown",
   "metadata": {},
   "source": [
    "### Shape"
   ]
  },
  {
   "cell_type": "code",
   "execution_count": 7,
   "metadata": {},
   "outputs": [
    {
     "data": {
      "text/plain": [
       "(276055, 24)"
      ]
     },
     "execution_count": 7,
     "metadata": {},
     "output_type": "execute_result"
    }
   ],
   "source": [
    "stark_imp.shape"
   ]
  },
  {
   "cell_type": "code",
   "execution_count": 8,
   "metadata": {},
   "outputs": [
    {
     "data": {
      "text/plain": [
       "(6541, 24)"
      ]
     },
     "execution_count": 8,
     "metadata": {},
     "output_type": "execute_result"
    }
   ],
   "source": [
    "stark_click.shape"
   ]
  },
  {
   "cell_type": "code",
   "execution_count": 9,
   "metadata": {},
   "outputs": [
    {
     "data": {
      "text/plain": [
       "(152295, 8)"
      ]
     },
     "execution_count": 9,
     "metadata": {},
     "output_type": "execute_result"
    }
   ],
   "source": [
    "stark_install.shape"
   ]
  },
  {
   "cell_type": "markdown",
   "metadata": {},
   "source": [
    "### Column Names"
   ]
  },
  {
   "cell_type": "code",
   "execution_count": 10,
   "metadata": {},
   "outputs": [
    {
     "data": {
      "text/plain": [
       "Index(['REQ_CITY_ID', 'REQ_COUNTRY_ID', 'Raw User Id', 'App Id', 'EXCHANGE_ID',\n",
       "       'DEVICE_MANUFACTURER', 'DEVICE_MODEL', 'DEVICE_OS', 'OS_Version',\n",
       "       'USER_CARRIER', 'CAMPAIGN_ID', 'CREATIVE_ID_1', 'CREATIVE_ID_2',\n",
       "       'Unique Id', 'Epoch Timestamp', 'CREATIVE_TYPE', 'IAB_CATEGORY_ID1',\n",
       "       'IAB_CATEGORY_ID2', 'IAB_CATEGORY_ID3', 'IS_WIFI', 'CAMPAIGN_TYPE',\n",
       "       'CONNECTION_TYPE', 'IMP_ORIENTATION', 'Datetime'],\n",
       "      dtype='object')"
      ]
     },
     "execution_count": 10,
     "metadata": {},
     "output_type": "execute_result"
    }
   ],
   "source": [
    "stark_imp.columns"
   ]
  },
  {
   "cell_type": "code",
   "execution_count": 11,
   "metadata": {},
   "outputs": [
    {
     "data": {
      "text/plain": [
       "Index(['REQ_CITY_ID', 'REQ_COUNTRY_ID', 'Raw User Id', 'App Id', 'EXCHANGE_ID',\n",
       "       'DEVICE_MANUFACTURER', 'DEVICE_MODEL', 'DEVICE_OS', 'OS_Version',\n",
       "       'USER_CARRIER', 'CAMPAIGN_ID', 'CREATIVE_ID_1', 'CREATIVE_ID_2',\n",
       "       'Unique Id', 'Epoch Timestamp', 'CREATIVE_TYPE', 'IAB_CATEGORY_ID1',\n",
       "       'IAB_CATEGORY_ID2', 'IAB_CATEGORY_ID3', 'IS_WIFI', 'CAMPAIGN_TYPE',\n",
       "       'CONNECTION_TYPE', 'IMP_ORIENTATION', 'Datetime'],\n",
       "      dtype='object')"
      ]
     },
     "execution_count": 11,
     "metadata": {},
     "output_type": "execute_result"
    }
   ],
   "source": [
    "stark_click.columns"
   ]
  },
  {
   "cell_type": "code",
   "execution_count": 12,
   "metadata": {},
   "outputs": [
    {
     "data": {
      "text/plain": [
       "Index(['Unique Id', 'is_valid_unique_id', 'can_claim', 'country_code',\n",
       "       'Raw User Id', 'DEVICE_OS', 'Epoch Timestamp', 'Datetime'],\n",
       "      dtype='object')"
      ]
     },
     "execution_count": 12,
     "metadata": {},
     "output_type": "execute_result"
    }
   ],
   "source": [
    "stark_install.columns"
   ]
  },
  {
   "cell_type": "markdown",
   "metadata": {},
   "source": [
    "### Head"
   ]
  },
  {
   "cell_type": "code",
   "execution_count": 13,
   "metadata": {},
   "outputs": [
    {
     "data": {
      "text/html": [
       "<div>\n",
       "<style scoped>\n",
       "    .dataframe tbody tr th:only-of-type {\n",
       "        vertical-align: middle;\n",
       "    }\n",
       "\n",
       "    .dataframe tbody tr th {\n",
       "        vertical-align: top;\n",
       "    }\n",
       "\n",
       "    .dataframe thead th {\n",
       "        text-align: right;\n",
       "    }\n",
       "</style>\n",
       "<table border=\"1\" class=\"dataframe\">\n",
       "  <thead>\n",
       "    <tr style=\"text-align: right;\">\n",
       "      <th></th>\n",
       "      <th>REQ_CITY_ID</th>\n",
       "      <th>REQ_COUNTRY_ID</th>\n",
       "      <th>Raw User Id</th>\n",
       "      <th>App Id</th>\n",
       "      <th>EXCHANGE_ID</th>\n",
       "      <th>DEVICE_MANUFACTURER</th>\n",
       "      <th>DEVICE_MODEL</th>\n",
       "      <th>DEVICE_OS</th>\n",
       "      <th>OS_Version</th>\n",
       "      <th>USER_CARRIER</th>\n",
       "      <th>...</th>\n",
       "      <th>Epoch Timestamp</th>\n",
       "      <th>CREATIVE_TYPE</th>\n",
       "      <th>IAB_CATEGORY_ID1</th>\n",
       "      <th>IAB_CATEGORY_ID2</th>\n",
       "      <th>IAB_CATEGORY_ID3</th>\n",
       "      <th>IS_WIFI</th>\n",
       "      <th>CAMPAIGN_TYPE</th>\n",
       "      <th>CONNECTION_TYPE</th>\n",
       "      <th>IMP_ORIENTATION</th>\n",
       "      <th>Datetime</th>\n",
       "    </tr>\n",
       "  </thead>\n",
       "  <tbody>\n",
       "    <tr>\n",
       "      <th>0</th>\n",
       "      <td>5795440</td>\n",
       "      <td>246</td>\n",
       "      <td>raw_id:74A0C6FC-F8C6-450E-87AF-188BB71337E0</td>\n",
       "      <td>1436008834</td>\n",
       "      <td>23</td>\n",
       "      <td>1317</td>\n",
       "      <td>896</td>\n",
       "      <td>12</td>\n",
       "      <td>71</td>\n",
       "      <td>0</td>\n",
       "      <td>...</td>\n",
       "      <td>1544763675</td>\n",
       "      <td>3</td>\n",
       "      <td>11.0</td>\n",
       "      <td>157.0</td>\n",
       "      <td>187.0</td>\n",
       "      <td>1</td>\n",
       "      <td>3</td>\n",
       "      <td>1</td>\n",
       "      <td>portrait</td>\n",
       "      <td>2018-12-14 05:01:15</td>\n",
       "    </tr>\n",
       "    <tr>\n",
       "      <th>1</th>\n",
       "      <td>5318313</td>\n",
       "      <td>246</td>\n",
       "      <td>raw_id:A11F8505-010B-4479-9D15-8A56010E272E</td>\n",
       "      <td>1436008834</td>\n",
       "      <td>23</td>\n",
       "      <td>1317</td>\n",
       "      <td>5090</td>\n",
       "      <td>12</td>\n",
       "      <td>0</td>\n",
       "      <td>0</td>\n",
       "      <td>...</td>\n",
       "      <td>1544766534</td>\n",
       "      <td>3</td>\n",
       "      <td>11.0</td>\n",
       "      <td>157.0</td>\n",
       "      <td>187.0</td>\n",
       "      <td>1</td>\n",
       "      <td>3</td>\n",
       "      <td>1</td>\n",
       "      <td>portrait</td>\n",
       "      <td>2018-12-14 05:48:54</td>\n",
       "    </tr>\n",
       "    <tr>\n",
       "      <th>2</th>\n",
       "      <td>5359777</td>\n",
       "      <td>246</td>\n",
       "      <td>raw_id:496F124B-96AB-485B-9B2E-2C8910FFD510</td>\n",
       "      <td>1303389751</td>\n",
       "      <td>10044</td>\n",
       "      <td>2</td>\n",
       "      <td>0</td>\n",
       "      <td>12</td>\n",
       "      <td>0</td>\n",
       "      <td>0</td>\n",
       "      <td>...</td>\n",
       "      <td>1544764471</td>\n",
       "      <td>3</td>\n",
       "      <td>NaN</td>\n",
       "      <td>NaN</td>\n",
       "      <td>NaN</td>\n",
       "      <td>1</td>\n",
       "      <td>3</td>\n",
       "      <td>1</td>\n",
       "      <td>portrait</td>\n",
       "      <td>2018-12-14 05:14:31</td>\n",
       "    </tr>\n",
       "    <tr>\n",
       "      <th>3</th>\n",
       "      <td>5359777</td>\n",
       "      <td>246</td>\n",
       "      <td>raw_id:496F124B-96AB-485B-9B2E-2C8910FFD510</td>\n",
       "      <td>1303389751</td>\n",
       "      <td>10044</td>\n",
       "      <td>2</td>\n",
       "      <td>0</td>\n",
       "      <td>12</td>\n",
       "      <td>0</td>\n",
       "      <td>0</td>\n",
       "      <td>...</td>\n",
       "      <td>1544764503</td>\n",
       "      <td>3</td>\n",
       "      <td>NaN</td>\n",
       "      <td>NaN</td>\n",
       "      <td>NaN</td>\n",
       "      <td>1</td>\n",
       "      <td>3</td>\n",
       "      <td>1</td>\n",
       "      <td>portrait</td>\n",
       "      <td>2018-12-14 05:15:03</td>\n",
       "    </tr>\n",
       "    <tr>\n",
       "      <th>4</th>\n",
       "      <td>0</td>\n",
       "      <td>93</td>\n",
       "      <td>raw_id:CA0BA044-FB83-4288-AB8D-1B15BF66ABE8</td>\n",
       "      <td>962892510</td>\n",
       "      <td>10049</td>\n",
       "      <td>1317</td>\n",
       "      <td>0</td>\n",
       "      <td>12</td>\n",
       "      <td>79</td>\n",
       "      <td>0</td>\n",
       "      <td>...</td>\n",
       "      <td>1544764911</td>\n",
       "      <td>3</td>\n",
       "      <td>325.0</td>\n",
       "      <td>NaN</td>\n",
       "      <td>NaN</td>\n",
       "      <td>1</td>\n",
       "      <td>3</td>\n",
       "      <td>1</td>\n",
       "      <td>portrait</td>\n",
       "      <td>2018-12-14 05:21:51</td>\n",
       "    </tr>\n",
       "  </tbody>\n",
       "</table>\n",
       "<p>5 rows × 24 columns</p>\n",
       "</div>"
      ],
      "text/plain": [
       "   REQ_CITY_ID  REQ_COUNTRY_ID                                  Raw User Id  \\\n",
       "0      5795440             246  raw_id:74A0C6FC-F8C6-450E-87AF-188BB71337E0   \n",
       "1      5318313             246  raw_id:A11F8505-010B-4479-9D15-8A56010E272E   \n",
       "2      5359777             246  raw_id:496F124B-96AB-485B-9B2E-2C8910FFD510   \n",
       "3      5359777             246  raw_id:496F124B-96AB-485B-9B2E-2C8910FFD510   \n",
       "4            0              93  raw_id:CA0BA044-FB83-4288-AB8D-1B15BF66ABE8   \n",
       "\n",
       "       App Id  EXCHANGE_ID  DEVICE_MANUFACTURER  DEVICE_MODEL  DEVICE_OS  \\\n",
       "0  1436008834           23                 1317           896         12   \n",
       "1  1436008834           23                 1317          5090         12   \n",
       "2  1303389751        10044                    2             0         12   \n",
       "3  1303389751        10044                    2             0         12   \n",
       "4   962892510        10049                 1317             0         12   \n",
       "\n",
       "   OS_Version  USER_CARRIER  ...  Epoch Timestamp  CREATIVE_TYPE  \\\n",
       "0          71             0  ...       1544763675              3   \n",
       "1           0             0  ...       1544766534              3   \n",
       "2           0             0  ...       1544764471              3   \n",
       "3           0             0  ...       1544764503              3   \n",
       "4          79             0  ...       1544764911              3   \n",
       "\n",
       "   IAB_CATEGORY_ID1 IAB_CATEGORY_ID2  IAB_CATEGORY_ID3  IS_WIFI  \\\n",
       "0              11.0            157.0             187.0        1   \n",
       "1              11.0            157.0             187.0        1   \n",
       "2               NaN              NaN               NaN        1   \n",
       "3               NaN              NaN               NaN        1   \n",
       "4             325.0              NaN               NaN        1   \n",
       "\n",
       "   CAMPAIGN_TYPE  CONNECTION_TYPE  IMP_ORIENTATION            Datetime  \n",
       "0              3                1         portrait 2018-12-14 05:01:15  \n",
       "1              3                1         portrait 2018-12-14 05:48:54  \n",
       "2              3                1         portrait 2018-12-14 05:14:31  \n",
       "3              3                1         portrait 2018-12-14 05:15:03  \n",
       "4              3                1         portrait 2018-12-14 05:21:51  \n",
       "\n",
       "[5 rows x 24 columns]"
      ]
     },
     "execution_count": 13,
     "metadata": {},
     "output_type": "execute_result"
    }
   ],
   "source": [
    "stark_imp.head()"
   ]
  },
  {
   "cell_type": "code",
   "execution_count": 14,
   "metadata": {},
   "outputs": [
    {
     "data": {
      "text/html": [
       "<div>\n",
       "<style scoped>\n",
       "    .dataframe tbody tr th:only-of-type {\n",
       "        vertical-align: middle;\n",
       "    }\n",
       "\n",
       "    .dataframe tbody tr th {\n",
       "        vertical-align: top;\n",
       "    }\n",
       "\n",
       "    .dataframe thead th {\n",
       "        text-align: right;\n",
       "    }\n",
       "</style>\n",
       "<table border=\"1\" class=\"dataframe\">\n",
       "  <thead>\n",
       "    <tr style=\"text-align: right;\">\n",
       "      <th></th>\n",
       "      <th>REQ_CITY_ID</th>\n",
       "      <th>REQ_COUNTRY_ID</th>\n",
       "      <th>Raw User Id</th>\n",
       "      <th>App Id</th>\n",
       "      <th>EXCHANGE_ID</th>\n",
       "      <th>DEVICE_MANUFACTURER</th>\n",
       "      <th>DEVICE_MODEL</th>\n",
       "      <th>DEVICE_OS</th>\n",
       "      <th>OS_Version</th>\n",
       "      <th>USER_CARRIER</th>\n",
       "      <th>...</th>\n",
       "      <th>Epoch Timestamp</th>\n",
       "      <th>CREATIVE_TYPE</th>\n",
       "      <th>IAB_CATEGORY_ID1</th>\n",
       "      <th>IAB_CATEGORY_ID2</th>\n",
       "      <th>IAB_CATEGORY_ID3</th>\n",
       "      <th>IS_WIFI</th>\n",
       "      <th>CAMPAIGN_TYPE</th>\n",
       "      <th>CONNECTION_TYPE</th>\n",
       "      <th>IMP_ORIENTATION</th>\n",
       "      <th>Datetime</th>\n",
       "    </tr>\n",
       "  </thead>\n",
       "  <tbody>\n",
       "    <tr>\n",
       "      <th>0</th>\n",
       "      <td>0</td>\n",
       "      <td>246</td>\n",
       "      <td>6F556808-A569-4568-B4E1-DA47CFC77784</td>\n",
       "      <td>1419954157</td>\n",
       "      <td>10044</td>\n",
       "      <td>2</td>\n",
       "      <td>0</td>\n",
       "      <td>12</td>\n",
       "      <td>0</td>\n",
       "      <td>1932</td>\n",
       "      <td>...</td>\n",
       "      <td>1544918344</td>\n",
       "      <td>3</td>\n",
       "      <td>NaN</td>\n",
       "      <td>NaN</td>\n",
       "      <td>NaN</td>\n",
       "      <td>0</td>\n",
       "      <td>3</td>\n",
       "      <td>2</td>\n",
       "      <td>portrait</td>\n",
       "      <td>2018-12-15 23:59:04</td>\n",
       "    </tr>\n",
       "    <tr>\n",
       "      <th>1</th>\n",
       "      <td>0</td>\n",
       "      <td>246</td>\n",
       "      <td>0A28682E-C502-439F-80D7-8E08B1372D81</td>\n",
       "      <td>962892510</td>\n",
       "      <td>10049</td>\n",
       "      <td>1317</td>\n",
       "      <td>5692</td>\n",
       "      <td>12</td>\n",
       "      <td>83</td>\n",
       "      <td>1951</td>\n",
       "      <td>...</td>\n",
       "      <td>1544918311</td>\n",
       "      <td>3</td>\n",
       "      <td>325.0</td>\n",
       "      <td>NaN</td>\n",
       "      <td>NaN</td>\n",
       "      <td>0</td>\n",
       "      <td>3</td>\n",
       "      <td>2</td>\n",
       "      <td>portrait</td>\n",
       "      <td>2018-12-15 23:58:31</td>\n",
       "    </tr>\n",
       "    <tr>\n",
       "      <th>2</th>\n",
       "      <td>5368361</td>\n",
       "      <td>246</td>\n",
       "      <td>EEFDF90E-6F2D-409B-BD25-D781632002C0</td>\n",
       "      <td>962892510</td>\n",
       "      <td>10049</td>\n",
       "      <td>1317</td>\n",
       "      <td>5734</td>\n",
       "      <td>12</td>\n",
       "      <td>83</td>\n",
       "      <td>0</td>\n",
       "      <td>...</td>\n",
       "      <td>1544918396</td>\n",
       "      <td>3</td>\n",
       "      <td>325.0</td>\n",
       "      <td>NaN</td>\n",
       "      <td>NaN</td>\n",
       "      <td>1</td>\n",
       "      <td>3</td>\n",
       "      <td>1</td>\n",
       "      <td>portrait</td>\n",
       "      <td>2018-12-15 23:59:56</td>\n",
       "    </tr>\n",
       "    <tr>\n",
       "      <th>3</th>\n",
       "      <td>4167147</td>\n",
       "      <td>246</td>\n",
       "      <td>3787D06D-BBB6-4FB1-8EED-A9A53F7C74D3</td>\n",
       "      <td>1342112505</td>\n",
       "      <td>10044</td>\n",
       "      <td>2</td>\n",
       "      <td>0</td>\n",
       "      <td>12</td>\n",
       "      <td>0</td>\n",
       "      <td>0</td>\n",
       "      <td>...</td>\n",
       "      <td>1544918074</td>\n",
       "      <td>3</td>\n",
       "      <td>NaN</td>\n",
       "      <td>NaN</td>\n",
       "      <td>NaN</td>\n",
       "      <td>1</td>\n",
       "      <td>2</td>\n",
       "      <td>1</td>\n",
       "      <td>portrait</td>\n",
       "      <td>2018-12-15 23:54:34</td>\n",
       "    </tr>\n",
       "    <tr>\n",
       "      <th>11</th>\n",
       "      <td>0</td>\n",
       "      <td>246</td>\n",
       "      <td>DDC19F64-CA92-4EEC-9AFC-610238C2B516</td>\n",
       "      <td>1342112505</td>\n",
       "      <td>10044</td>\n",
       "      <td>2</td>\n",
       "      <td>0</td>\n",
       "      <td>12</td>\n",
       "      <td>0</td>\n",
       "      <td>0</td>\n",
       "      <td>...</td>\n",
       "      <td>1544918275</td>\n",
       "      <td>3</td>\n",
       "      <td>NaN</td>\n",
       "      <td>NaN</td>\n",
       "      <td>NaN</td>\n",
       "      <td>1</td>\n",
       "      <td>2</td>\n",
       "      <td>1</td>\n",
       "      <td>portrait</td>\n",
       "      <td>2018-12-15 23:57:55</td>\n",
       "    </tr>\n",
       "  </tbody>\n",
       "</table>\n",
       "<p>5 rows × 24 columns</p>\n",
       "</div>"
      ],
      "text/plain": [
       "    REQ_CITY_ID  REQ_COUNTRY_ID                           Raw User Id  \\\n",
       "0             0             246  6F556808-A569-4568-B4E1-DA47CFC77784   \n",
       "1             0             246  0A28682E-C502-439F-80D7-8E08B1372D81   \n",
       "2       5368361             246  EEFDF90E-6F2D-409B-BD25-D781632002C0   \n",
       "3       4167147             246  3787D06D-BBB6-4FB1-8EED-A9A53F7C74D3   \n",
       "11            0             246  DDC19F64-CA92-4EEC-9AFC-610238C2B516   \n",
       "\n",
       "        App Id  EXCHANGE_ID  DEVICE_MANUFACTURER  DEVICE_MODEL  DEVICE_OS  \\\n",
       "0   1419954157        10044                    2             0         12   \n",
       "1    962892510        10049                 1317          5692         12   \n",
       "2    962892510        10049                 1317          5734         12   \n",
       "3   1342112505        10044                    2             0         12   \n",
       "11  1342112505        10044                    2             0         12   \n",
       "\n",
       "    OS_Version  USER_CARRIER  ...  Epoch Timestamp  CREATIVE_TYPE  \\\n",
       "0            0          1932  ...       1544918344              3   \n",
       "1           83          1951  ...       1544918311              3   \n",
       "2           83             0  ...       1544918396              3   \n",
       "3            0             0  ...       1544918074              3   \n",
       "11           0             0  ...       1544918275              3   \n",
       "\n",
       "    IAB_CATEGORY_ID1 IAB_CATEGORY_ID2  IAB_CATEGORY_ID3  IS_WIFI  \\\n",
       "0                NaN              NaN               NaN        0   \n",
       "1              325.0              NaN               NaN        0   \n",
       "2              325.0              NaN               NaN        1   \n",
       "3                NaN              NaN               NaN        1   \n",
       "11               NaN              NaN               NaN        1   \n",
       "\n",
       "    CAMPAIGN_TYPE  CONNECTION_TYPE  IMP_ORIENTATION            Datetime  \n",
       "0               3                2         portrait 2018-12-15 23:59:04  \n",
       "1               3                2         portrait 2018-12-15 23:58:31  \n",
       "2               3                1         portrait 2018-12-15 23:59:56  \n",
       "3               2                1         portrait 2018-12-15 23:54:34  \n",
       "11              2                1         portrait 2018-12-15 23:57:55  \n",
       "\n",
       "[5 rows x 24 columns]"
      ]
     },
     "execution_count": 14,
     "metadata": {},
     "output_type": "execute_result"
    }
   ],
   "source": [
    "stark_click.head()"
   ]
  },
  {
   "cell_type": "code",
   "execution_count": 15,
   "metadata": {},
   "outputs": [
    {
     "data": {
      "text/html": [
       "<div>\n",
       "<style scoped>\n",
       "    .dataframe tbody tr th:only-of-type {\n",
       "        vertical-align: middle;\n",
       "    }\n",
       "\n",
       "    .dataframe tbody tr th {\n",
       "        vertical-align: top;\n",
       "    }\n",
       "\n",
       "    .dataframe thead th {\n",
       "        text-align: right;\n",
       "    }\n",
       "</style>\n",
       "<table border=\"1\" class=\"dataframe\">\n",
       "  <thead>\n",
       "    <tr style=\"text-align: right;\">\n",
       "      <th></th>\n",
       "      <th>Unique Id</th>\n",
       "      <th>is_valid_unique_id</th>\n",
       "      <th>can_claim</th>\n",
       "      <th>country_code</th>\n",
       "      <th>Raw User Id</th>\n",
       "      <th>DEVICE_OS</th>\n",
       "      <th>Epoch Timestamp</th>\n",
       "      <th>Datetime</th>\n",
       "    </tr>\n",
       "  </thead>\n",
       "  <tbody>\n",
       "    <tr>\n",
       "      <th>0</th>\n",
       "      <td>NaN</td>\n",
       "      <td>0</td>\n",
       "      <td>0</td>\n",
       "      <td>US</td>\n",
       "      <td>babe71dc-c7a9-4689-bb77-f025a21851f1</td>\n",
       "      <td>android</td>\n",
       "      <td>1544831396</td>\n",
       "      <td>2018-12-14 23:49:56</td>\n",
       "    </tr>\n",
       "    <tr>\n",
       "      <th>1</th>\n",
       "      <td>BSylpKk</td>\n",
       "      <td>0</td>\n",
       "      <td>0</td>\n",
       "      <td>GT</td>\n",
       "      <td>d2dad60c-2542-4e02-bcb5-36fd1be20524</td>\n",
       "      <td>android</td>\n",
       "      <td>1544831407</td>\n",
       "      <td>2018-12-14 23:50:07</td>\n",
       "    </tr>\n",
       "    <tr>\n",
       "      <th>4</th>\n",
       "      <td>44e563b5ab59da90dfa0ba05b09c8e12</td>\n",
       "      <td>0</td>\n",
       "      <td>0</td>\n",
       "      <td>US</td>\n",
       "      <td>53F94CA3-60BA-4EA7-A70E-0C503E11ED48</td>\n",
       "      <td>ios</td>\n",
       "      <td>1544831404</td>\n",
       "      <td>2018-12-14 23:50:04</td>\n",
       "    </tr>\n",
       "    <tr>\n",
       "      <th>10</th>\n",
       "      <td>RlBVpKk</td>\n",
       "      <td>0</td>\n",
       "      <td>0</td>\n",
       "      <td>UK</td>\n",
       "      <td>64250355-ca7d-4254-a3af-ff245f191fa8</td>\n",
       "      <td>android</td>\n",
       "      <td>1544831409</td>\n",
       "      <td>2018-12-14 23:50:09</td>\n",
       "    </tr>\n",
       "    <tr>\n",
       "      <th>12</th>\n",
       "      <td>grRVpKk</td>\n",
       "      <td>0</td>\n",
       "      <td>0</td>\n",
       "      <td>PL</td>\n",
       "      <td>f981ddc4-3717-44aa-85f6-3bbd0cdb6b69</td>\n",
       "      <td>android</td>\n",
       "      <td>1544831411</td>\n",
       "      <td>2018-12-14 23:50:11</td>\n",
       "    </tr>\n",
       "  </tbody>\n",
       "</table>\n",
       "</div>"
      ],
      "text/plain": [
       "                           Unique Id  is_valid_unique_id  can_claim  \\\n",
       "0                                NaN                   0          0   \n",
       "1                            BSylpKk                   0          0   \n",
       "4   44e563b5ab59da90dfa0ba05b09c8e12                   0          0   \n",
       "10                           RlBVpKk                   0          0   \n",
       "12                           grRVpKk                   0          0   \n",
       "\n",
       "   country_code                           Raw User Id DEVICE_OS  \\\n",
       "0            US  babe71dc-c7a9-4689-bb77-f025a21851f1   android   \n",
       "1            GT  d2dad60c-2542-4e02-bcb5-36fd1be20524   android   \n",
       "4            US  53F94CA3-60BA-4EA7-A70E-0C503E11ED48       ios   \n",
       "10           UK  64250355-ca7d-4254-a3af-ff245f191fa8   android   \n",
       "12           PL  f981ddc4-3717-44aa-85f6-3bbd0cdb6b69   android   \n",
       "\n",
       "    Epoch Timestamp            Datetime  \n",
       "0        1544831396 2018-12-14 23:49:56  \n",
       "1        1544831407 2018-12-14 23:50:07  \n",
       "4        1544831404 2018-12-14 23:50:04  \n",
       "10       1544831409 2018-12-14 23:50:09  \n",
       "12       1544831411 2018-12-14 23:50:11  "
      ]
     },
     "execution_count": 15,
     "metadata": {},
     "output_type": "execute_result"
    }
   ],
   "source": [
    "stark_install.head()"
   ]
  },
  {
   "cell_type": "code",
   "execution_count": 16,
   "metadata": {},
   "outputs": [
    {
     "data": {
      "text/html": [
       "<div>\n",
       "<style scoped>\n",
       "    .dataframe tbody tr th:only-of-type {\n",
       "        vertical-align: middle;\n",
       "    }\n",
       "\n",
       "    .dataframe tbody tr th {\n",
       "        vertical-align: top;\n",
       "    }\n",
       "\n",
       "    .dataframe thead th {\n",
       "        text-align: right;\n",
       "    }\n",
       "</style>\n",
       "<table border=\"1\" class=\"dataframe\">\n",
       "  <thead>\n",
       "    <tr style=\"text-align: right;\">\n",
       "      <th></th>\n",
       "      <th>REQ_COUNTRY_ID</th>\n",
       "      <th>COUNTRY_NAME</th>\n",
       "    </tr>\n",
       "  </thead>\n",
       "  <tbody>\n",
       "    <tr>\n",
       "      <th>0</th>\n",
       "      <td>1</td>\n",
       "      <td>Null</td>\n",
       "    </tr>\n",
       "    <tr>\n",
       "      <th>1</th>\n",
       "      <td>2</td>\n",
       "      <td>Unknown</td>\n",
       "    </tr>\n",
       "    <tr>\n",
       "      <th>2</th>\n",
       "      <td>11</td>\n",
       "      <td>Afghanistan</td>\n",
       "    </tr>\n",
       "    <tr>\n",
       "      <th>3</th>\n",
       "      <td>12</td>\n",
       "      <td>Ã…land Islands</td>\n",
       "    </tr>\n",
       "    <tr>\n",
       "      <th>4</th>\n",
       "      <td>13</td>\n",
       "      <td>Albania</td>\n",
       "    </tr>\n",
       "  </tbody>\n",
       "</table>\n",
       "</div>"
      ],
      "text/plain": [
       "   REQ_COUNTRY_ID    COUNTRY_NAME\n",
       "0               1            Null\n",
       "1               2         Unknown\n",
       "2              11     Afghanistan\n",
       "3              12  Ã…land Islands\n",
       "4              13         Albania"
      ]
     },
     "execution_count": 16,
     "metadata": {},
     "output_type": "execute_result"
    }
   ],
   "source": [
    "country_mapping.head()"
   ]
  },
  {
   "cell_type": "markdown",
   "metadata": {},
   "source": [
    "#### Describe"
   ]
  },
  {
   "cell_type": "code",
   "execution_count": 17,
   "metadata": {
    "scrolled": false
   },
   "outputs": [
    {
     "data": {
      "text/html": [
       "<div>\n",
       "<style scoped>\n",
       "    .dataframe tbody tr th:only-of-type {\n",
       "        vertical-align: middle;\n",
       "    }\n",
       "\n",
       "    .dataframe tbody tr th {\n",
       "        vertical-align: top;\n",
       "    }\n",
       "\n",
       "    .dataframe thead th {\n",
       "        text-align: right;\n",
       "    }\n",
       "</style>\n",
       "<table border=\"1\" class=\"dataframe\">\n",
       "  <thead>\n",
       "    <tr style=\"text-align: right;\">\n",
       "      <th></th>\n",
       "      <th>REQ_CITY_ID</th>\n",
       "      <th>REQ_COUNTRY_ID</th>\n",
       "      <th>EXCHANGE_ID</th>\n",
       "      <th>DEVICE_MANUFACTURER</th>\n",
       "      <th>DEVICE_MODEL</th>\n",
       "      <th>DEVICE_OS</th>\n",
       "      <th>OS_Version</th>\n",
       "      <th>USER_CARRIER</th>\n",
       "      <th>CAMPAIGN_ID</th>\n",
       "      <th>CREATIVE_ID_1</th>\n",
       "      <th>CREATIVE_ID_2</th>\n",
       "      <th>Epoch Timestamp</th>\n",
       "      <th>CREATIVE_TYPE</th>\n",
       "      <th>IAB_CATEGORY_ID1</th>\n",
       "      <th>IAB_CATEGORY_ID2</th>\n",
       "      <th>IAB_CATEGORY_ID3</th>\n",
       "      <th>IS_WIFI</th>\n",
       "      <th>CAMPAIGN_TYPE</th>\n",
       "      <th>CONNECTION_TYPE</th>\n",
       "    </tr>\n",
       "  </thead>\n",
       "  <tbody>\n",
       "    <tr>\n",
       "      <th>count</th>\n",
       "      <td>2.760550e+05</td>\n",
       "      <td>276055.000000</td>\n",
       "      <td>276055.000000</td>\n",
       "      <td>276055.000000</td>\n",
       "      <td>276055.000000</td>\n",
       "      <td>276055.0</td>\n",
       "      <td>276055.000000</td>\n",
       "      <td>276055.000000</td>\n",
       "      <td>276055.000000</td>\n",
       "      <td>2.760550e+05</td>\n",
       "      <td>2.760550e+05</td>\n",
       "      <td>2.760550e+05</td>\n",
       "      <td>276055.000000</td>\n",
       "      <td>105784.000000</td>\n",
       "      <td>97735.000000</td>\n",
       "      <td>25250.000000</td>\n",
       "      <td>276055.000000</td>\n",
       "      <td>276055.000000</td>\n",
       "      <td>276055.000000</td>\n",
       "    </tr>\n",
       "    <tr>\n",
       "      <th>mean</th>\n",
       "      <td>3.455954e+06</td>\n",
       "      <td>243.386314</td>\n",
       "      <td>7199.379214</td>\n",
       "      <td>688.193204</td>\n",
       "      <td>1800.437637</td>\n",
       "      <td>12.0</td>\n",
       "      <td>29.276362</td>\n",
       "      <td>535.686664</td>\n",
       "      <td>134232.134064</td>\n",
       "      <td>5.025245e+07</td>\n",
       "      <td>5.027745e+07</td>\n",
       "      <td>1.544945e+09</td>\n",
       "      <td>2.997022</td>\n",
       "      <td>148.120869</td>\n",
       "      <td>242.736000</td>\n",
       "      <td>203.062257</td>\n",
       "      <td>0.695843</td>\n",
       "      <td>2.415921</td>\n",
       "      <td>1.277032</td>\n",
       "    </tr>\n",
       "    <tr>\n",
       "      <th>std</th>\n",
       "      <td>2.260764e+06</td>\n",
       "      <td>21.262341</td>\n",
       "      <td>4518.344503</td>\n",
       "      <td>656.874808</td>\n",
       "      <td>2440.108930</td>\n",
       "      <td>0.0</td>\n",
       "      <td>38.707237</td>\n",
       "      <td>868.420803</td>\n",
       "      <td>553.811608</td>\n",
       "      <td>2.637450e+03</td>\n",
       "      <td>2.867444e+03</td>\n",
       "      <td>1.012706e+05</td>\n",
       "      <td>0.077113</td>\n",
       "      <td>88.114415</td>\n",
       "      <td>104.616211</td>\n",
       "      <td>43.972478</td>\n",
       "      <td>0.460050</td>\n",
       "      <td>0.719834</td>\n",
       "      <td>0.476876</td>\n",
       "    </tr>\n",
       "    <tr>\n",
       "      <th>min</th>\n",
       "      <td>0.000000e+00</td>\n",
       "      <td>0.000000</td>\n",
       "      <td>11.000000</td>\n",
       "      <td>2.000000</td>\n",
       "      <td>0.000000</td>\n",
       "      <td>12.0</td>\n",
       "      <td>0.000000</td>\n",
       "      <td>0.000000</td>\n",
       "      <td>132889.000000</td>\n",
       "      <td>5.024354e+07</td>\n",
       "      <td>5.026228e+07</td>\n",
       "      <td>1.544746e+09</td>\n",
       "      <td>1.000000</td>\n",
       "      <td>11.000000</td>\n",
       "      <td>12.000000</td>\n",
       "      <td>43.000000</td>\n",
       "      <td>0.000000</td>\n",
       "      <td>1.000000</td>\n",
       "      <td>0.000000</td>\n",
       "    </tr>\n",
       "    <tr>\n",
       "      <th>25%</th>\n",
       "      <td>0.000000e+00</td>\n",
       "      <td>246.000000</td>\n",
       "      <td>23.000000</td>\n",
       "      <td>2.000000</td>\n",
       "      <td>0.000000</td>\n",
       "      <td>12.0</td>\n",
       "      <td>0.000000</td>\n",
       "      <td>0.000000</td>\n",
       "      <td>134047.000000</td>\n",
       "      <td>5.025335e+07</td>\n",
       "      <td>5.027778e+07</td>\n",
       "      <td>1.544871e+09</td>\n",
       "      <td>3.000000</td>\n",
       "      <td>68.000000</td>\n",
       "      <td>187.000000</td>\n",
       "      <td>187.000000</td>\n",
       "      <td>0.000000</td>\n",
       "      <td>2.000000</td>\n",
       "      <td>1.000000</td>\n",
       "    </tr>\n",
       "    <tr>\n",
       "      <th>50%</th>\n",
       "      <td>4.574324e+06</td>\n",
       "      <td>246.000000</td>\n",
       "      <td>10044.000000</td>\n",
       "      <td>1317.000000</td>\n",
       "      <td>0.000000</td>\n",
       "      <td>12.0</td>\n",
       "      <td>0.000000</td>\n",
       "      <td>0.000000</td>\n",
       "      <td>134255.000000</td>\n",
       "      <td>5.025335e+07</td>\n",
       "      <td>5.027785e+07</td>\n",
       "      <td>1.544930e+09</td>\n",
       "      <td>3.000000</td>\n",
       "      <td>157.000000</td>\n",
       "      <td>187.000000</td>\n",
       "      <td>187.000000</td>\n",
       "      <td>1.000000</td>\n",
       "      <td>3.000000</td>\n",
       "      <td>1.000000</td>\n",
       "    </tr>\n",
       "    <tr>\n",
       "      <th>75%</th>\n",
       "      <td>5.105127e+06</td>\n",
       "      <td>246.000000</td>\n",
       "      <td>10044.000000</td>\n",
       "      <td>1317.000000</td>\n",
       "      <td>5090.000000</td>\n",
       "      <td>12.0</td>\n",
       "      <td>81.000000</td>\n",
       "      <td>1932.000000</td>\n",
       "      <td>134795.000000</td>\n",
       "      <td>5.025336e+07</td>\n",
       "      <td>5.027881e+07</td>\n",
       "      <td>1.545046e+09</td>\n",
       "      <td>3.000000</td>\n",
       "      <td>222.000000</td>\n",
       "      <td>387.000000</td>\n",
       "      <td>187.000000</td>\n",
       "      <td>1.000000</td>\n",
       "      <td>3.000000</td>\n",
       "      <td>2.000000</td>\n",
       "    </tr>\n",
       "    <tr>\n",
       "      <th>max</th>\n",
       "      <td>1.086099e+07</td>\n",
       "      <td>254.000000</td>\n",
       "      <td>10049.000000</td>\n",
       "      <td>1317.000000</td>\n",
       "      <td>5742.000000</td>\n",
       "      <td>12.0</td>\n",
       "      <td>83.000000</td>\n",
       "      <td>2149.000000</td>\n",
       "      <td>135098.000000</td>\n",
       "      <td>5.025434e+07</td>\n",
       "      <td>5.028153e+07</td>\n",
       "      <td>1.545153e+09</td>\n",
       "      <td>3.000000</td>\n",
       "      <td>387.000000</td>\n",
       "      <td>387.000000</td>\n",
       "      <td>387.000000</td>\n",
       "      <td>1.000000</td>\n",
       "      <td>3.000000</td>\n",
       "      <td>2.000000</td>\n",
       "    </tr>\n",
       "  </tbody>\n",
       "</table>\n",
       "</div>"
      ],
      "text/plain": [
       "        REQ_CITY_ID  REQ_COUNTRY_ID    EXCHANGE_ID  DEVICE_MANUFACTURER  \\\n",
       "count  2.760550e+05   276055.000000  276055.000000        276055.000000   \n",
       "mean   3.455954e+06      243.386314    7199.379214           688.193204   \n",
       "std    2.260764e+06       21.262341    4518.344503           656.874808   \n",
       "min    0.000000e+00        0.000000      11.000000             2.000000   \n",
       "25%    0.000000e+00      246.000000      23.000000             2.000000   \n",
       "50%    4.574324e+06      246.000000   10044.000000          1317.000000   \n",
       "75%    5.105127e+06      246.000000   10044.000000          1317.000000   \n",
       "max    1.086099e+07      254.000000   10049.000000          1317.000000   \n",
       "\n",
       "        DEVICE_MODEL  DEVICE_OS     OS_Version   USER_CARRIER    CAMPAIGN_ID  \\\n",
       "count  276055.000000   276055.0  276055.000000  276055.000000  276055.000000   \n",
       "mean     1800.437637       12.0      29.276362     535.686664  134232.134064   \n",
       "std      2440.108930        0.0      38.707237     868.420803     553.811608   \n",
       "min         0.000000       12.0       0.000000       0.000000  132889.000000   \n",
       "25%         0.000000       12.0       0.000000       0.000000  134047.000000   \n",
       "50%         0.000000       12.0       0.000000       0.000000  134255.000000   \n",
       "75%      5090.000000       12.0      81.000000    1932.000000  134795.000000   \n",
       "max      5742.000000       12.0      83.000000    2149.000000  135098.000000   \n",
       "\n",
       "       CREATIVE_ID_1  CREATIVE_ID_2  Epoch Timestamp  CREATIVE_TYPE  \\\n",
       "count   2.760550e+05   2.760550e+05     2.760550e+05  276055.000000   \n",
       "mean    5.025245e+07   5.027745e+07     1.544945e+09       2.997022   \n",
       "std     2.637450e+03   2.867444e+03     1.012706e+05       0.077113   \n",
       "min     5.024354e+07   5.026228e+07     1.544746e+09       1.000000   \n",
       "25%     5.025335e+07   5.027778e+07     1.544871e+09       3.000000   \n",
       "50%     5.025335e+07   5.027785e+07     1.544930e+09       3.000000   \n",
       "75%     5.025336e+07   5.027881e+07     1.545046e+09       3.000000   \n",
       "max     5.025434e+07   5.028153e+07     1.545153e+09       3.000000   \n",
       "\n",
       "       IAB_CATEGORY_ID1  IAB_CATEGORY_ID2  IAB_CATEGORY_ID3        IS_WIFI  \\\n",
       "count     105784.000000      97735.000000      25250.000000  276055.000000   \n",
       "mean         148.120869        242.736000        203.062257       0.695843   \n",
       "std           88.114415        104.616211         43.972478       0.460050   \n",
       "min           11.000000         12.000000         43.000000       0.000000   \n",
       "25%           68.000000        187.000000        187.000000       0.000000   \n",
       "50%          157.000000        187.000000        187.000000       1.000000   \n",
       "75%          222.000000        387.000000        187.000000       1.000000   \n",
       "max          387.000000        387.000000        387.000000       1.000000   \n",
       "\n",
       "       CAMPAIGN_TYPE  CONNECTION_TYPE  \n",
       "count  276055.000000    276055.000000  \n",
       "mean        2.415921         1.277032  \n",
       "std         0.719834         0.476876  \n",
       "min         1.000000         0.000000  \n",
       "25%         2.000000         1.000000  \n",
       "50%         3.000000         1.000000  \n",
       "75%         3.000000         2.000000  \n",
       "max         3.000000         2.000000  "
      ]
     },
     "execution_count": 17,
     "metadata": {},
     "output_type": "execute_result"
    }
   ],
   "source": [
    "stark_imp.describe()"
   ]
  },
  {
   "cell_type": "code",
   "execution_count": 18,
   "metadata": {},
   "outputs": [
    {
     "data": {
      "text/html": [
       "<div>\n",
       "<style scoped>\n",
       "    .dataframe tbody tr th:only-of-type {\n",
       "        vertical-align: middle;\n",
       "    }\n",
       "\n",
       "    .dataframe tbody tr th {\n",
       "        vertical-align: top;\n",
       "    }\n",
       "\n",
       "    .dataframe thead th {\n",
       "        text-align: right;\n",
       "    }\n",
       "</style>\n",
       "<table border=\"1\" class=\"dataframe\">\n",
       "  <thead>\n",
       "    <tr style=\"text-align: right;\">\n",
       "      <th></th>\n",
       "      <th>REQ_CITY_ID</th>\n",
       "      <th>REQ_COUNTRY_ID</th>\n",
       "      <th>EXCHANGE_ID</th>\n",
       "      <th>DEVICE_MANUFACTURER</th>\n",
       "      <th>DEVICE_MODEL</th>\n",
       "      <th>DEVICE_OS</th>\n",
       "      <th>OS_Version</th>\n",
       "      <th>USER_CARRIER</th>\n",
       "      <th>CAMPAIGN_ID</th>\n",
       "      <th>CREATIVE_ID_1</th>\n",
       "      <th>CREATIVE_ID_2</th>\n",
       "      <th>Epoch Timestamp</th>\n",
       "      <th>CREATIVE_TYPE</th>\n",
       "      <th>IAB_CATEGORY_ID1</th>\n",
       "      <th>IAB_CATEGORY_ID2</th>\n",
       "      <th>IAB_CATEGORY_ID3</th>\n",
       "      <th>IS_WIFI</th>\n",
       "      <th>CAMPAIGN_TYPE</th>\n",
       "      <th>CONNECTION_TYPE</th>\n",
       "    </tr>\n",
       "  </thead>\n",
       "  <tbody>\n",
       "    <tr>\n",
       "      <th>count</th>\n",
       "      <td>6.541000e+03</td>\n",
       "      <td>6541.000000</td>\n",
       "      <td>6541.000000</td>\n",
       "      <td>6541.000000</td>\n",
       "      <td>6541.000000</td>\n",
       "      <td>6541.0</td>\n",
       "      <td>6541.000000</td>\n",
       "      <td>6541.000000</td>\n",
       "      <td>6541.000000</td>\n",
       "      <td>6.541000e+03</td>\n",
       "      <td>6.541000e+03</td>\n",
       "      <td>6.541000e+03</td>\n",
       "      <td>6541.000000</td>\n",
       "      <td>4401.000000</td>\n",
       "      <td>4264.000000</td>\n",
       "      <td>1270.000000</td>\n",
       "      <td>6541.000000</td>\n",
       "      <td>6541.000000</td>\n",
       "      <td>6541.000000</td>\n",
       "    </tr>\n",
       "    <tr>\n",
       "      <th>mean</th>\n",
       "      <td>3.618515e+06</td>\n",
       "      <td>244.542272</td>\n",
       "      <td>3810.335576</td>\n",
       "      <td>1026.095704</td>\n",
       "      <td>3226.608164</td>\n",
       "      <td>12.0</td>\n",
       "      <td>31.105794</td>\n",
       "      <td>419.653264</td>\n",
       "      <td>134396.166030</td>\n",
       "      <td>5.025303e+07</td>\n",
       "      <td>5.027795e+07</td>\n",
       "      <td>1.544938e+09</td>\n",
       "      <td>2.987769</td>\n",
       "      <td>165.808907</td>\n",
       "      <td>272.690197</td>\n",
       "      <td>220.137795</td>\n",
       "      <td>0.671151</td>\n",
       "      <td>2.719768</td>\n",
       "      <td>1.319676</td>\n",
       "    </tr>\n",
       "    <tr>\n",
       "      <th>std</th>\n",
       "      <td>2.149070e+06</td>\n",
       "      <td>15.891545</td>\n",
       "      <td>4859.471497</td>\n",
       "      <td>545.856568</td>\n",
       "      <td>2448.327199</td>\n",
       "      <td>0.0</td>\n",
       "      <td>39.480338</td>\n",
       "      <td>799.524214</td>\n",
       "      <td>514.141438</td>\n",
       "      <td>1.614409e+03</td>\n",
       "      <td>2.320451e+03</td>\n",
       "      <td>1.009642e+05</td>\n",
       "      <td>0.155933</td>\n",
       "      <td>79.075574</td>\n",
       "      <td>108.025867</td>\n",
       "      <td>38.745567</td>\n",
       "      <td>0.469831</td>\n",
       "      <td>0.552633</td>\n",
       "      <td>0.476121</td>\n",
       "    </tr>\n",
       "    <tr>\n",
       "      <th>min</th>\n",
       "      <td>0.000000e+00</td>\n",
       "      <td>0.000000</td>\n",
       "      <td>11.000000</td>\n",
       "      <td>2.000000</td>\n",
       "      <td>0.000000</td>\n",
       "      <td>12.0</td>\n",
       "      <td>0.000000</td>\n",
       "      <td>0.000000</td>\n",
       "      <td>132889.000000</td>\n",
       "      <td>5.024354e+07</td>\n",
       "      <td>5.026228e+07</td>\n",
       "      <td>1.544746e+09</td>\n",
       "      <td>1.000000</td>\n",
       "      <td>11.000000</td>\n",
       "      <td>12.000000</td>\n",
       "      <td>157.000000</td>\n",
       "      <td>0.000000</td>\n",
       "      <td>1.000000</td>\n",
       "      <td>0.000000</td>\n",
       "    </tr>\n",
       "    <tr>\n",
       "      <th>25%</th>\n",
       "      <td>0.000000e+00</td>\n",
       "      <td>246.000000</td>\n",
       "      <td>23.000000</td>\n",
       "      <td>1317.000000</td>\n",
       "      <td>0.000000</td>\n",
       "      <td>12.0</td>\n",
       "      <td>0.000000</td>\n",
       "      <td>0.000000</td>\n",
       "      <td>134047.000000</td>\n",
       "      <td>5.025335e+07</td>\n",
       "      <td>5.027785e+07</td>\n",
       "      <td>1.544851e+09</td>\n",
       "      <td>3.000000</td>\n",
       "      <td>157.000000</td>\n",
       "      <td>187.000000</td>\n",
       "      <td>187.000000</td>\n",
       "      <td>0.000000</td>\n",
       "      <td>3.000000</td>\n",
       "      <td>1.000000</td>\n",
       "    </tr>\n",
       "    <tr>\n",
       "      <th>50%</th>\n",
       "      <td>4.744870e+06</td>\n",
       "      <td>246.000000</td>\n",
       "      <td>23.000000</td>\n",
       "      <td>1317.000000</td>\n",
       "      <td>5090.000000</td>\n",
       "      <td>12.0</td>\n",
       "      <td>0.000000</td>\n",
       "      <td>0.000000</td>\n",
       "      <td>134795.000000</td>\n",
       "      <td>5.025335e+07</td>\n",
       "      <td>5.027881e+07</td>\n",
       "      <td>1.544926e+09</td>\n",
       "      <td>3.000000</td>\n",
       "      <td>187.000000</td>\n",
       "      <td>187.000000</td>\n",
       "      <td>187.000000</td>\n",
       "      <td>1.000000</td>\n",
       "      <td>3.000000</td>\n",
       "      <td>1.000000</td>\n",
       "    </tr>\n",
       "    <tr>\n",
       "      <th>75%</th>\n",
       "      <td>4.931972e+06</td>\n",
       "      <td>246.000000</td>\n",
       "      <td>10044.000000</td>\n",
       "      <td>1317.000000</td>\n",
       "      <td>5090.000000</td>\n",
       "      <td>12.0</td>\n",
       "      <td>82.000000</td>\n",
       "      <td>0.000000</td>\n",
       "      <td>134795.000000</td>\n",
       "      <td>5.025336e+07</td>\n",
       "      <td>5.027881e+07</td>\n",
       "      <td>1.545016e+09</td>\n",
       "      <td>3.000000</td>\n",
       "      <td>222.000000</td>\n",
       "      <td>387.000000</td>\n",
       "      <td>250.000000</td>\n",
       "      <td>1.000000</td>\n",
       "      <td>3.000000</td>\n",
       "      <td>2.000000</td>\n",
       "    </tr>\n",
       "    <tr>\n",
       "      <th>max</th>\n",
       "      <td>8.299576e+06</td>\n",
       "      <td>246.000000</td>\n",
       "      <td>10049.000000</td>\n",
       "      <td>1317.000000</td>\n",
       "      <td>5742.000000</td>\n",
       "      <td>12.0</td>\n",
       "      <td>83.000000</td>\n",
       "      <td>1951.000000</td>\n",
       "      <td>135098.000000</td>\n",
       "      <td>5.025434e+07</td>\n",
       "      <td>5.028153e+07</td>\n",
       "      <td>1.545143e+09</td>\n",
       "      <td>3.000000</td>\n",
       "      <td>387.000000</td>\n",
       "      <td>387.000000</td>\n",
       "      <td>387.000000</td>\n",
       "      <td>1.000000</td>\n",
       "      <td>3.000000</td>\n",
       "      <td>2.000000</td>\n",
       "    </tr>\n",
       "  </tbody>\n",
       "</table>\n",
       "</div>"
      ],
      "text/plain": [
       "        REQ_CITY_ID  REQ_COUNTRY_ID   EXCHANGE_ID  DEVICE_MANUFACTURER  \\\n",
       "count  6.541000e+03     6541.000000   6541.000000          6541.000000   \n",
       "mean   3.618515e+06      244.542272   3810.335576          1026.095704   \n",
       "std    2.149070e+06       15.891545   4859.471497           545.856568   \n",
       "min    0.000000e+00        0.000000     11.000000             2.000000   \n",
       "25%    0.000000e+00      246.000000     23.000000          1317.000000   \n",
       "50%    4.744870e+06      246.000000     23.000000          1317.000000   \n",
       "75%    4.931972e+06      246.000000  10044.000000          1317.000000   \n",
       "max    8.299576e+06      246.000000  10049.000000          1317.000000   \n",
       "\n",
       "       DEVICE_MODEL  DEVICE_OS   OS_Version  USER_CARRIER    CAMPAIGN_ID  \\\n",
       "count   6541.000000     6541.0  6541.000000   6541.000000    6541.000000   \n",
       "mean    3226.608164       12.0    31.105794    419.653264  134396.166030   \n",
       "std     2448.327199        0.0    39.480338    799.524214     514.141438   \n",
       "min        0.000000       12.0     0.000000      0.000000  132889.000000   \n",
       "25%        0.000000       12.0     0.000000      0.000000  134047.000000   \n",
       "50%     5090.000000       12.0     0.000000      0.000000  134795.000000   \n",
       "75%     5090.000000       12.0    82.000000      0.000000  134795.000000   \n",
       "max     5742.000000       12.0    83.000000   1951.000000  135098.000000   \n",
       "\n",
       "       CREATIVE_ID_1  CREATIVE_ID_2  Epoch Timestamp  CREATIVE_TYPE  \\\n",
       "count   6.541000e+03   6.541000e+03     6.541000e+03    6541.000000   \n",
       "mean    5.025303e+07   5.027795e+07     1.544938e+09       2.987769   \n",
       "std     1.614409e+03   2.320451e+03     1.009642e+05       0.155933   \n",
       "min     5.024354e+07   5.026228e+07     1.544746e+09       1.000000   \n",
       "25%     5.025335e+07   5.027785e+07     1.544851e+09       3.000000   \n",
       "50%     5.025335e+07   5.027881e+07     1.544926e+09       3.000000   \n",
       "75%     5.025336e+07   5.027881e+07     1.545016e+09       3.000000   \n",
       "max     5.025434e+07   5.028153e+07     1.545143e+09       3.000000   \n",
       "\n",
       "       IAB_CATEGORY_ID1  IAB_CATEGORY_ID2  IAB_CATEGORY_ID3      IS_WIFI  \\\n",
       "count       4401.000000       4264.000000       1270.000000  6541.000000   \n",
       "mean         165.808907        272.690197        220.137795     0.671151   \n",
       "std           79.075574        108.025867         38.745567     0.469831   \n",
       "min           11.000000         12.000000        157.000000     0.000000   \n",
       "25%          157.000000        187.000000        187.000000     0.000000   \n",
       "50%          187.000000        187.000000        187.000000     1.000000   \n",
       "75%          222.000000        387.000000        250.000000     1.000000   \n",
       "max          387.000000        387.000000        387.000000     1.000000   \n",
       "\n",
       "       CAMPAIGN_TYPE  CONNECTION_TYPE  \n",
       "count    6541.000000      6541.000000  \n",
       "mean        2.719768         1.319676  \n",
       "std         0.552633         0.476121  \n",
       "min         1.000000         0.000000  \n",
       "25%         3.000000         1.000000  \n",
       "50%         3.000000         1.000000  \n",
       "75%         3.000000         2.000000  \n",
       "max         3.000000         2.000000  "
      ]
     },
     "execution_count": 18,
     "metadata": {},
     "output_type": "execute_result"
    }
   ],
   "source": [
    "stark_click.describe()"
   ]
  },
  {
   "cell_type": "code",
   "execution_count": 19,
   "metadata": {},
   "outputs": [
    {
     "data": {
      "text/html": [
       "<div>\n",
       "<style scoped>\n",
       "    .dataframe tbody tr th:only-of-type {\n",
       "        vertical-align: middle;\n",
       "    }\n",
       "\n",
       "    .dataframe tbody tr th {\n",
       "        vertical-align: top;\n",
       "    }\n",
       "\n",
       "    .dataframe thead th {\n",
       "        text-align: right;\n",
       "    }\n",
       "</style>\n",
       "<table border=\"1\" class=\"dataframe\">\n",
       "  <thead>\n",
       "    <tr style=\"text-align: right;\">\n",
       "      <th></th>\n",
       "      <th>is_valid_unique_id</th>\n",
       "      <th>can_claim</th>\n",
       "      <th>Epoch Timestamp</th>\n",
       "    </tr>\n",
       "  </thead>\n",
       "  <tbody>\n",
       "    <tr>\n",
       "      <th>count</th>\n",
       "      <td>152295.000000</td>\n",
       "      <td>152295.000000</td>\n",
       "      <td>1.522950e+05</td>\n",
       "    </tr>\n",
       "    <tr>\n",
       "      <th>mean</th>\n",
       "      <td>0.008017</td>\n",
       "      <td>0.008017</td>\n",
       "      <td>1.544965e+09</td>\n",
       "    </tr>\n",
       "    <tr>\n",
       "      <th>std</th>\n",
       "      <td>0.089180</td>\n",
       "      <td>0.089180</td>\n",
       "      <td>1.169962e+05</td>\n",
       "    </tr>\n",
       "    <tr>\n",
       "      <th>min</th>\n",
       "      <td>0.000000</td>\n",
       "      <td>0.000000</td>\n",
       "      <td>1.544746e+09</td>\n",
       "    </tr>\n",
       "    <tr>\n",
       "      <th>25%</th>\n",
       "      <td>0.000000</td>\n",
       "      <td>0.000000</td>\n",
       "      <td>1.544875e+09</td>\n",
       "    </tr>\n",
       "    <tr>\n",
       "      <th>50%</th>\n",
       "      <td>0.000000</td>\n",
       "      <td>0.000000</td>\n",
       "      <td>1.544962e+09</td>\n",
       "    </tr>\n",
       "    <tr>\n",
       "      <th>75%</th>\n",
       "      <td>0.000000</td>\n",
       "      <td>0.000000</td>\n",
       "      <td>1.545063e+09</td>\n",
       "    </tr>\n",
       "    <tr>\n",
       "      <th>max</th>\n",
       "      <td>1.000000</td>\n",
       "      <td>1.000000</td>\n",
       "      <td>1.545178e+09</td>\n",
       "    </tr>\n",
       "  </tbody>\n",
       "</table>\n",
       "</div>"
      ],
      "text/plain": [
       "       is_valid_unique_id      can_claim  Epoch Timestamp\n",
       "count       152295.000000  152295.000000     1.522950e+05\n",
       "mean             0.008017       0.008017     1.544965e+09\n",
       "std              0.089180       0.089180     1.169962e+05\n",
       "min              0.000000       0.000000     1.544746e+09\n",
       "25%              0.000000       0.000000     1.544875e+09\n",
       "50%              0.000000       0.000000     1.544962e+09\n",
       "75%              0.000000       0.000000     1.545063e+09\n",
       "max              1.000000       1.000000     1.545178e+09"
      ]
     },
     "execution_count": 19,
     "metadata": {},
     "output_type": "execute_result"
    }
   ],
   "source": [
    "stark_install.describe()"
   ]
  },
  {
   "cell_type": "markdown",
   "metadata": {},
   "source": [
    "#### _'CREATIVE_ID_2'_ is a **variant** of _'CREATIVE_ID_1'_\n",
    "creative type > creative id 1 > creative id 2"
   ]
  },
  {
   "cell_type": "code",
   "execution_count": 48,
   "metadata": {
    "scrolled": true
   },
   "outputs": [
    {
     "name": "stdout",
     "output_type": "stream",
     "text": [
      " * sqlite:///kayzen.db\n",
      "Done.\n"
     ]
    },
    {
     "data": {
      "text/html": [
       "<table>\n",
       "    <tr>\n",
       "        <th>CREATIVE_ID_1</th>\n",
       "        <th>CREATIVE_ID_2</th>\n",
       "        <th>COUNT([Unique Id])</th>\n",
       "    </tr>\n",
       "    <tr>\n",
       "        <td>50243545</td>\n",
       "        <td>50280862</td>\n",
       "        <td>8174</td>\n",
       "    </tr>\n",
       "    <tr>\n",
       "        <td>50244446</td>\n",
       "        <td>50262280</td>\n",
       "        <td>24</td>\n",
       "    </tr>\n",
       "    <tr>\n",
       "        <td>50244447</td>\n",
       "        <td>50262281</td>\n",
       "        <td>387</td>\n",
       "    </tr>\n",
       "    <tr>\n",
       "        <td>50245500</td>\n",
       "        <td>50280861</td>\n",
       "        <td>11232</td>\n",
       "    </tr>\n",
       "    <tr>\n",
       "        <td>50245525</td>\n",
       "        <td>50263556</td>\n",
       "        <td>34</td>\n",
       "    </tr>\n",
       "    <tr>\n",
       "        <td>50245525</td>\n",
       "        <td>50263629</td>\n",
       "        <td>810</td>\n",
       "    </tr>\n",
       "    <tr>\n",
       "        <td>50245526</td>\n",
       "        <td>50263557</td>\n",
       "        <td>31</td>\n",
       "    </tr>\n",
       "    <tr>\n",
       "        <td>50245526</td>\n",
       "        <td>50263630</td>\n",
       "        <td>309</td>\n",
       "    </tr>\n",
       "    <tr>\n",
       "        <td>50245527</td>\n",
       "        <td>50263559</td>\n",
       "        <td>28</td>\n",
       "    </tr>\n",
       "    <tr>\n",
       "        <td>50245527</td>\n",
       "        <td>50263631</td>\n",
       "        <td>408</td>\n",
       "    </tr>\n",
       "</table>"
      ],
      "text/plain": [
       "[(50243545, 50280862, 8174),\n",
       " (50244446, 50262280, 24),\n",
       " (50244447, 50262281, 387),\n",
       " (50245500, 50280861, 11232),\n",
       " (50245525, 50263556, 34),\n",
       " (50245525, 50263629, 810),\n",
       " (50245526, 50263557, 31),\n",
       " (50245526, 50263630, 309),\n",
       " (50245527, 50263559, 28),\n",
       " (50245527, 50263631, 408)]"
      ]
     },
     "execution_count": 48,
     "metadata": {},
     "output_type": "execute_result"
    }
   ],
   "source": [
    "%%sql\n",
    "\n",
    "SELECT\n",
    "CREATIVE_ID_1,\n",
    "CREATIVE_ID_2,\n",
    "COUNT([Unique Id])\n",
    "FROM imp \n",
    "GROUP BY 1,2\n",
    "ORDER BY 1\n",
    "LIMIT 10; "
   ]
  },
  {
   "cell_type": "markdown",
   "metadata": {},
   "source": [
    "#### is_wifi and Connection type "
   ]
  },
  {
   "cell_type": "code",
   "execution_count": 50,
   "metadata": {},
   "outputs": [
    {
     "name": "stdout",
     "output_type": "stream",
     "text": [
      " * sqlite:///kayzen.db\n",
      "Done.\n"
     ]
    },
    {
     "data": {
      "text/html": [
       "<table>\n",
       "    <tr>\n",
       "        <th>CONNECTION_TYPE</th>\n",
       "        <th>IS_WIFI</th>\n",
       "        <th>impressions</th>\n",
       "    </tr>\n",
       "    <tr>\n",
       "        <td>0</td>\n",
       "        <td>0</td>\n",
       "        <td>3744</td>\n",
       "    </tr>\n",
       "    <tr>\n",
       "        <td>1</td>\n",
       "        <td>1</td>\n",
       "        <td>192091</td>\n",
       "    </tr>\n",
       "    <tr>\n",
       "        <td>2</td>\n",
       "        <td>0</td>\n",
       "        <td>80220</td>\n",
       "    </tr>\n",
       "</table>"
      ],
      "text/plain": [
       "[(0, 0, 3744), (1, 1, 192091), (2, 0, 80220)]"
      ]
     },
     "execution_count": 50,
     "metadata": {},
     "output_type": "execute_result"
    }
   ],
   "source": [
    "%%sql\n",
    "\n",
    "WITH attr AS (\n",
    "    SELECT\n",
    "    [Unique Id],\n",
    "    [Raw User Id],\n",
    "    [Epoch Timestamp]\n",
    "    FROM install\n",
    "    WHERE can_claim = 1\n",
    "    )\n",
    "SELECT\n",
    "imp.CONNECTION_TYPE,\n",
    "imp.IS_WIFI,\n",
    "COUNT(imp.[Unique Id]) AS impressions\n",
    "FROM imp \n",
    "LEFT JOIN click c ON c.[Unique Id] = imp.[Unique Id]\n",
    "LEFT JOIN attr i ON i.[Unique Id] = imp.[Unique Id]\n",
    "GROUP BY 1,2\n",
    "ORDER BY 1;"
   ]
  },
  {
   "cell_type": "markdown",
   "metadata": {},
   "source": [
    "#### IAB categories - most values are null"
   ]
  },
  {
   "cell_type": "code",
   "execution_count": 52,
   "metadata": {},
   "outputs": [
    {
     "data": {
      "text/plain": [
       "array([ 11., 157.,  nan, 325., 187., 387.,  17., 222., 331.,  84.,  43.,\n",
       "        92., 250., 162.,  12.,  68., 241., 339.,  19., 302., 251., 205.,\n",
       "       182., 371., 164., 180., 295., 231., 138., 367.,  76., 209.,  16.,\n",
       "        56., 223., 158., 123., 136., 296.])"
      ]
     },
     "execution_count": 52,
     "metadata": {},
     "output_type": "execute_result"
    }
   ],
   "source": [
    "pd.unique(stark_imp[['IAB_CATEGORY_ID1', 'IAB_CATEGORY_ID2', 'IAB_CATEGORY_ID2']].values.ravel())"
   ]
  },
  {
   "cell_type": "code",
   "execution_count": 53,
   "metadata": {},
   "outputs": [
    {
     "data": {
      "text/plain": [
       "170271"
      ]
     },
     "execution_count": 53,
     "metadata": {},
     "output_type": "execute_result"
    }
   ],
   "source": [
    "stark_imp['IAB_CATEGORY_ID1'].isna().sum()"
   ]
  },
  {
   "cell_type": "code",
   "execution_count": 57,
   "metadata": {},
   "outputs": [
    {
     "data": {
      "text/plain": [
       "105784"
      ]
     },
     "execution_count": 57,
     "metadata": {},
     "output_type": "execute_result"
    }
   ],
   "source": [
    "stark_imp['IAB_CATEGORY_ID1'].notnull().sum()"
   ]
  },
  {
   "cell_type": "code",
   "execution_count": 54,
   "metadata": {},
   "outputs": [
    {
     "data": {
      "text/plain": [
       "178320"
      ]
     },
     "execution_count": 54,
     "metadata": {},
     "output_type": "execute_result"
    }
   ],
   "source": [
    "stark_imp['IAB_CATEGORY_ID2'].isna().sum()"
   ]
  },
  {
   "cell_type": "code",
   "execution_count": 59,
   "metadata": {},
   "outputs": [
    {
     "data": {
      "text/plain": [
       "97735"
      ]
     },
     "execution_count": 59,
     "metadata": {},
     "output_type": "execute_result"
    }
   ],
   "source": [
    "stark_imp['IAB_CATEGORY_ID2'].notnull().sum()"
   ]
  },
  {
   "cell_type": "code",
   "execution_count": 55,
   "metadata": {},
   "outputs": [
    {
     "data": {
      "text/plain": [
       "250805"
      ]
     },
     "execution_count": 55,
     "metadata": {},
     "output_type": "execute_result"
    }
   ],
   "source": [
    "stark_imp['IAB_CATEGORY_ID3'].isna().sum()"
   ]
  },
  {
   "cell_type": "code",
   "execution_count": 60,
   "metadata": {},
   "outputs": [
    {
     "data": {
      "text/plain": [
       "25250"
      ]
     },
     "execution_count": 60,
     "metadata": {},
     "output_type": "execute_result"
    }
   ],
   "source": [
    "stark_imp['IAB_CATEGORY_ID3'].notnull().sum()"
   ]
  },
  {
   "cell_type": "markdown",
   "metadata": {},
   "source": [
    "#### Unique Values per Column"
   ]
  },
  {
   "cell_type": "code",
   "execution_count": 20,
   "metadata": {},
   "outputs": [
    {
     "data": {
      "text/plain": [
       "array([246,  93,   0, 116,  50, 122,  42, 189, 100, 193, 185, 167,  11,\n",
       "       178,  96, 245, 124, 133,  70,  71, 169,  24, 208,  86, 154, 238,\n",
       "       130, 244, 219, 114, 190,  91, 243,  56, 140, 210, 249,  76, 129,\n",
       "       231, 205, 216, 254, 181, 145,  45,  28, 211, 192,  72, 113, 177,\n",
       "        92, 172, 187,  68,  14, 242, 117,  59, 228, 253,  26, 120, 125,\n",
       "        94, 119, 166, 149, 110])"
      ]
     },
     "execution_count": 20,
     "metadata": {},
     "output_type": "execute_result"
    }
   ],
   "source": [
    "stark_imp['REQ_COUNTRY_ID'].unique()"
   ]
  },
  {
   "cell_type": "code",
   "execution_count": 21,
   "metadata": {},
   "outputs": [
    {
     "data": {
      "text/plain": [
       "121970"
      ]
     },
     "execution_count": 21,
     "metadata": {},
     "output_type": "execute_result"
    }
   ],
   "source": [
    "stark_imp['Raw User Id'].nunique()"
   ]
  },
  {
   "cell_type": "code",
   "execution_count": 22,
   "metadata": {},
   "outputs": [
    {
     "data": {
      "text/plain": [
       "2569"
      ]
     },
     "execution_count": 22,
     "metadata": {},
     "output_type": "execute_result"
    }
   ],
   "source": [
    "stark_imp['App Id'].nunique()"
   ]
  },
  {
   "cell_type": "code",
   "execution_count": 23,
   "metadata": {},
   "outputs": [
    {
     "data": {
      "text/plain": [
       "array([   23, 10044, 10049, 10038, 10031, 10046, 10048, 10036,    18,\n",
       "          12,    11,    34, 10047, 10032,    14,    20, 10045])"
      ]
     },
     "execution_count": 23,
     "metadata": {},
     "output_type": "execute_result"
    }
   ],
   "source": [
    "stark_imp['EXCHANGE_ID'].unique()"
   ]
  },
  {
   "cell_type": "code",
   "execution_count": 24,
   "metadata": {},
   "outputs": [
    {
     "data": {
      "text/plain": [
       "array([1317,    2])"
      ]
     },
     "execution_count": 24,
     "metadata": {},
     "output_type": "execute_result"
    }
   ],
   "source": [
    "stark_imp['DEVICE_MANUFACTURER'].unique()"
   ]
  },
  {
   "cell_type": "code",
   "execution_count": 25,
   "metadata": {},
   "outputs": [
    {
     "data": {
      "text/plain": [
       "array([ 896, 5090,    0, 5726, 5735, 5691, 5689, 5734, 5692, 5741, 5720,\n",
       "       5690, 5694, 5742, 5693, 5037, 1046,  977])"
      ]
     },
     "execution_count": 25,
     "metadata": {},
     "output_type": "execute_result"
    }
   ],
   "source": [
    "stark_imp['DEVICE_MODEL'].unique()"
   ]
  },
  {
   "cell_type": "code",
   "execution_count": 26,
   "metadata": {},
   "outputs": [
    {
     "data": {
      "text/plain": [
       "array([12])"
      ]
     },
     "execution_count": 26,
     "metadata": {},
     "output_type": "execute_result"
    }
   ],
   "source": [
    "stark_imp['DEVICE_OS'].unique()"
   ]
  },
  {
   "cell_type": "code",
   "execution_count": 27,
   "metadata": {},
   "outputs": [
    {
     "data": {
      "text/plain": [
       "array([   0, 1947, 1932, 1951, 1949, 1946, 1931, 1939, 1935, 1938, 1934,\n",
       "       1940, 2149, 2142])"
      ]
     },
     "execution_count": 27,
     "metadata": {},
     "output_type": "execute_result"
    }
   ],
   "source": [
    "stark_imp['USER_CARRIER'].unique()"
   ]
  },
  {
   "cell_type": "code",
   "execution_count": 28,
   "metadata": {},
   "outputs": [
    {
     "data": {
      "text/plain": [
       "array([134686, 134687, 134851, 133314, 133534, 133535, 134899, 134795,\n",
       "       133586, 133796, 133830, 133833, 133853, 134047, 134105, 134242,\n",
       "       134255, 134266, 134288, 135018, 133387, 133500, 132889, 135093,\n",
       "       135094, 135097, 135095, 135096, 135098])"
      ]
     },
     "execution_count": 28,
     "metadata": {},
     "output_type": "execute_result"
    }
   ],
   "source": [
    "stark_imp['CAMPAIGN_ID'].unique()"
   ]
  },
  {
   "cell_type": "code",
   "execution_count": 29,
   "metadata": {},
   "outputs": [
    {
     "data": {
      "text/plain": [
       "array([50250928, 50250936, 50250940, 50250929, 50253356, 50254305,\n",
       "       50245527, 50245529, 50245525, 50254304, 50253358, 50254303,\n",
       "       50253355, 50253354, 50253353, 50254333, 50244447, 50245528,\n",
       "       50253090, 50245526, 50247954, 50247956, 50247953, 50247951,\n",
       "       50254334, 50254338, 50253086, 50250933, 50247952, 50254335,\n",
       "       50254337, 50254336, 50247955, 50247957, 50244446, 50245500,\n",
       "       50243545, 50250935, 50250932, 50250934, 50253349, 50250937,\n",
       "       50250930, 50254332, 50254339, 50247958, 50250931, 50250939,\n",
       "       50250938, 50253348])"
      ]
     },
     "execution_count": 29,
     "metadata": {},
     "output_type": "execute_result"
    }
   ],
   "source": [
    "stark_imp['CREATIVE_ID_1'].unique()"
   ]
  },
  {
   "cell_type": "code",
   "execution_count": 30,
   "metadata": {},
   "outputs": [
    {
     "data": {
      "text/plain": [
       "215"
      ]
     },
     "execution_count": 30,
     "metadata": {},
     "output_type": "execute_result"
    }
   ],
   "source": [
    "stark_imp['CREATIVE_ID_2'].nunique()"
   ]
  },
  {
   "cell_type": "code",
   "execution_count": 31,
   "metadata": {},
   "outputs": [
    {
     "data": {
      "text/plain": [
       "276055"
      ]
     },
     "execution_count": 31,
     "metadata": {},
     "output_type": "execute_result"
    }
   ],
   "source": [
    "stark_imp['Unique Id'].nunique()"
   ]
  },
  {
   "cell_type": "code",
   "execution_count": 32,
   "metadata": {},
   "outputs": [
    {
     "data": {
      "text/plain": [
       "array([3, 1])"
      ]
     },
     "execution_count": 32,
     "metadata": {},
     "output_type": "execute_result"
    }
   ],
   "source": [
    "stark_imp['CREATIVE_TYPE'].unique()"
   ]
  },
  {
   "cell_type": "code",
   "execution_count": 33,
   "metadata": {},
   "outputs": [
    {
     "data": {
      "text/plain": [
       "array([ 11.,  nan, 325., 187., 387., 157., 222.,  84.,  43.,  17.,  92.,\n",
       "       162., 331.,  12., 241.,  19.,  68., 182., 205., 302., 180., 250.,\n",
       "       164., 295., 231.,  76., 138., 209., 371., 339.,  56., 223., 123.,\n",
       "       296.])"
      ]
     },
     "execution_count": 33,
     "metadata": {},
     "output_type": "execute_result"
    }
   ],
   "source": [
    "stark_imp['IAB_CATEGORY_ID1'].unique()"
   ]
  },
  {
   "cell_type": "code",
   "execution_count": 34,
   "metadata": {},
   "outputs": [
    {
     "data": {
      "text/plain": [
       "array([157.,  nan, 187.,  17., 387., 331.,  43., 250.,  68., 325., 339.,\n",
       "       222.,  12., 302., 162., 251., 205., 371., 164., 180., 295., 231.,\n",
       "       241., 138., 367.,  84.,  92., 182., 209.,  19.,  16., 158., 136.,\n",
       "       296., 223.])"
      ]
     },
     "execution_count": 34,
     "metadata": {},
     "output_type": "execute_result"
    }
   ],
   "source": [
    "stark_imp['IAB_CATEGORY_ID2'].unique()"
   ]
  },
  {
   "cell_type": "code",
   "execution_count": 35,
   "metadata": {},
   "outputs": [
    {
     "data": {
      "text/plain": [
       "array([187.,  nan, 331., 180.,  43., 250., 251., 157., 209., 222., 295.,\n",
       "       241., 189., 302., 371., 376., 231., 205., 138., 387., 245., 137.,\n",
       "        84., 325.])"
      ]
     },
     "execution_count": 35,
     "metadata": {},
     "output_type": "execute_result"
    }
   ],
   "source": [
    "stark_imp['IAB_CATEGORY_ID3'].unique()"
   ]
  },
  {
   "cell_type": "code",
   "execution_count": 36,
   "metadata": {},
   "outputs": [
    {
     "data": {
      "text/plain": [
       "array([1, 0])"
      ]
     },
     "execution_count": 36,
     "metadata": {},
     "output_type": "execute_result"
    }
   ],
   "source": [
    "stark_imp['IS_WIFI'].unique()"
   ]
  },
  {
   "cell_type": "code",
   "execution_count": 37,
   "metadata": {},
   "outputs": [
    {
     "data": {
      "text/plain": [
       "array([3, 2, 1])"
      ]
     },
     "execution_count": 37,
     "metadata": {},
     "output_type": "execute_result"
    }
   ],
   "source": [
    "stark_imp['CAMPAIGN_TYPE'].unique()"
   ]
  },
  {
   "cell_type": "code",
   "execution_count": 38,
   "metadata": {},
   "outputs": [
    {
     "data": {
      "text/plain": [
       "array([1, 2, 0])"
      ]
     },
     "execution_count": 38,
     "metadata": {},
     "output_type": "execute_result"
    }
   ],
   "source": [
    "stark_imp['CONNECTION_TYPE'].unique()"
   ]
  },
  {
   "cell_type": "code",
   "execution_count": 39,
   "metadata": {},
   "outputs": [
    {
     "data": {
      "text/plain": [
       "array(['portrait', 'landscape'], dtype=object)"
      ]
     },
     "execution_count": 39,
     "metadata": {},
     "output_type": "execute_result"
    }
   ],
   "source": [
    "stark_imp['IMP_ORIENTATION'].unique()"
   ]
  }
 ],
 "metadata": {
  "kernelspec": {
   "display_name": "Python 3",
   "language": "python",
   "name": "python3"
  },
  "language_info": {
   "codemirror_mode": {
    "name": "ipython",
    "version": 3
   },
   "file_extension": ".py",
   "mimetype": "text/x-python",
   "name": "python",
   "nbconvert_exporter": "python",
   "pygments_lexer": "ipython3",
   "version": "3.8.3"
  }
 },
 "nbformat": 4,
 "nbformat_minor": 4
}
