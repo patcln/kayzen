{
 "cells": [
  {
   "cell_type": "code",
   "execution_count": null,
   "metadata": {},
   "outputs": [],
   "source": [
    "import requests\n",
    "from bs4 import BeautifulSoup as bs\n",
    "import pysqlite3\n",
    "import time\n",
    "import pandas as pd\n",
    "import re\n",
    "\n",
    "conn = pysqlite3.connect('kayzen.db')"
   ]
  },
  {
   "cell_type": "code",
   "execution_count": null,
   "metadata": {
    "scrolled": true
   },
   "outputs": [],
   "source": [
    "query = \"\"\"\n",
    "SELECT\n",
    "DISTINCT imp.[App Id]\n",
    "FROM imp\n",
    "WHERE imp.[App Id] IS NOT NULL\n",
    ";\n",
    "\"\"\"\n",
    "pub = pd.read_sql_query(query,conn)"
   ]
  },
  {
   "cell_type": "code",
   "execution_count": null,
   "metadata": {},
   "outputs": [],
   "source": [
    "pubs = pub['App Id'].tolist()\n",
    "ios = re.compile(r'^[0-9]')\n",
    "all_ios = list(filter(ios.search, pubs))\n",
    "andriod = re.compile(r'^com.')\n",
    "all_android = list(filter(andriod.search, pubs))"
   ]
  },
  {
   "cell_type": "code",
   "execution_count": null,
   "metadata": {},
   "outputs": [],
   "source": [
    "# andoid\n",
    "android_url = 'https://play.google.com/store/apps/details?id='\n",
    "cat = []\n",
    "for app in all_android:\n",
    "    page_url = android_url + app\n",
    "    print(page_url)\n",
    "    page = requests.get(page_url)\n",
    "    soup = bs(page.text, 'html.parser')\n",
    "    try:\n",
    "        category = soup.find(itemprop=\"genre\").text\n",
    "    except:\n",
    "        category = None\n",
    "    cat += [[app, category]]"
   ]
  },
  {
   "cell_type": "code",
   "execution_count": null,
   "metadata": {},
   "outputs": [],
   "source": [
    "# apple\n",
    "ios_url = 'https://apps.apple.com/us/app/id'\n",
    "cat_ios = []\n",
    "for app in all_ios:\n",
    "    app = app.split('.')[0]\n",
    "    page_url = ios_url + app\n",
    "    print(page_url)\n",
    "    page = requests.get(page_url)\n",
    "    soup = bs(page.text, 'html.parser')\n",
    "    try:\n",
    "        category = soup.find_all(class_=\"information-list__item__definition\")[2].a.text\n",
    "    except:\n",
    "        category = None\n",
    "    cat_ios += [[app, category]]"
   ]
  },
  {
   "cell_type": "code",
   "execution_count": null,
   "metadata": {},
   "outputs": [],
   "source": [
    "# Creating df\n",
    "all_categories = cat_ios + cat\n",
    "df = pd.DataFrame(data = all_categories)\n",
    "df.columns = ['App Id','Category']"
   ]
  },
  {
   "cell_type": "code",
   "execution_count": null,
   "metadata": {},
   "outputs": [],
   "source": [
    "# dropping null values\n",
    "df.dropna(inplace=True)\n",
    "# removing spaces on both end\n",
    "df.Category = df.Category.str.strip()\n",
    "# export to csv\n",
    "df.to_csv('Categories.csv', index=False)\n",
    "# df > sql [Table name: Categories]\n",
    "df.to_sql('Categories', conn)"
   ]
  }
 ],
 "metadata": {
  "kernelspec": {
   "display_name": "Python 3",
   "language": "python",
   "name": "python3"
  },
  "language_info": {
   "codemirror_mode": {
    "name": "ipython",
    "version": 3
   },
   "file_extension": ".py",
   "mimetype": "text/x-python",
   "name": "python",
   "nbconvert_exporter": "python",
   "pygments_lexer": "ipython3",
   "version": "3.8.3"
  }
 },
 "nbformat": 4,
 "nbformat_minor": 4
}
